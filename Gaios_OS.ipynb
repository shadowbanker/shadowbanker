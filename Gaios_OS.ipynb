{
  "nbformat": 4,
  "nbformat_minor": 0,
  "metadata": {
    "colab": {
      "provenance": [],
      "include_colab_link": true
    },
    "kernelspec": {
      "name": "python3",
      "display_name": "Python 3"
    },
    "language_info": {
      "name": "python"
    }
  },
  "cells": [
    {
      "cell_type": "markdown",
      "metadata": {
        "id": "view-in-github",
        "colab_type": "text"
      },
      "source": [
        "<a href=\"https://colab.research.google.com/github/shadowbanker/shadowbanker/blob/main/Gaios_OS.ipynb\" target=\"_parent\"><img src=\"https://colab.research.google.com/assets/colab-badge.svg\" alt=\"Open In Colab\"/></a>"
      ]
    },
    {
      "cell_type": "code",
      "execution_count": 2,
      "metadata": {
        "id": "-3VGoB17K_ZF",
        "colab": {
          "base_uri": "https://localhost:8080/"
        },
        "outputId": "e247cccc-175f-412a-db8f-5b6add2fc17b"
      },
      "outputs": [
        {
          "output_type": "stream",
          "name": "stdout",
          "text": [
            "Looking in indexes: https://pypi.org/simple, https://us-python.pkg.dev/colab-wheels/public/simple/\n",
            "Collecting ccxt\n",
            "  Downloading ccxt-2.7.39-py2.py3-none-any.whl (3.4 MB)\n",
            "\u001b[2K     \u001b[90m━━━━━━━━━━━━━━━━━━━━━━━━━━━━━━━━━━━━━━━━\u001b[0m \u001b[32m3.4/3.4 MB\u001b[0m \u001b[31m7.2 MB/s\u001b[0m eta \u001b[36m0:00:00\u001b[0m\n",
            "\u001b[?25hRequirement already satisfied: certifi>=2018.1.18 in /usr/local/lib/python3.8/dist-packages (from ccxt) (2022.12.7)\n",
            "Collecting aiodns>=1.1.1\n",
            "  Downloading aiodns-3.0.0-py3-none-any.whl (5.0 kB)\n",
            "Requirement already satisfied: aiohttp>=3.8 in /usr/local/lib/python3.8/dist-packages (from ccxt) (3.8.3)\n",
            "Requirement already satisfied: requests>=2.18.4 in /usr/local/lib/python3.8/dist-packages (from ccxt) (2.25.1)\n",
            "Collecting setuptools>=60.9.0\n",
            "  Downloading setuptools-67.1.0-py3-none-any.whl (1.1 MB)\n",
            "\u001b[2K     \u001b[90m━━━━━━━━━━━━━━━━━━━━━━━━━━━━━━━━━━━━━━━━\u001b[0m \u001b[32m1.1/1.1 MB\u001b[0m \u001b[31m24.5 MB/s\u001b[0m eta \u001b[36m0:00:00\u001b[0m\n",
            "\u001b[?25hCollecting cryptography>=2.6.1\n",
            "  Downloading cryptography-39.0.0-cp36-abi3-manylinux_2_28_x86_64.whl (4.2 MB)\n",
            "\u001b[2K     \u001b[90m━━━━━━━━━━━━━━━━━━━━━━━━━━━━━━━━━━━━━━━━\u001b[0m \u001b[32m4.2/4.2 MB\u001b[0m \u001b[31m21.9 MB/s\u001b[0m eta \u001b[36m0:00:00\u001b[0m\n",
            "\u001b[?25hRequirement already satisfied: yarl>=1.7.2 in /usr/local/lib/python3.8/dist-packages (from ccxt) (1.8.2)\n",
            "Collecting pycares>=4.0.0\n",
            "  Downloading pycares-4.3.0-cp38-cp38-manylinux_2_17_x86_64.manylinux2014_x86_64.whl (288 kB)\n",
            "\u001b[2K     \u001b[90m━━━━━━━━━━━━━━━━━━━━━━━━━━━━━━━━━━━━━━\u001b[0m \u001b[32m289.0/289.0 KB\u001b[0m \u001b[31m17.7 MB/s\u001b[0m eta \u001b[36m0:00:00\u001b[0m\n",
            "\u001b[?25hRequirement already satisfied: attrs>=17.3.0 in /usr/local/lib/python3.8/dist-packages (from aiohttp>=3.8->ccxt) (22.2.0)\n",
            "Requirement already satisfied: aiosignal>=1.1.2 in /usr/local/lib/python3.8/dist-packages (from aiohttp>=3.8->ccxt) (1.3.1)\n",
            "Requirement already satisfied: async-timeout<5.0,>=4.0.0a3 in /usr/local/lib/python3.8/dist-packages (from aiohttp>=3.8->ccxt) (4.0.2)\n",
            "Requirement already satisfied: multidict<7.0,>=4.5 in /usr/local/lib/python3.8/dist-packages (from aiohttp>=3.8->ccxt) (6.0.4)\n",
            "Requirement already satisfied: charset-normalizer<3.0,>=2.0 in /usr/local/lib/python3.8/dist-packages (from aiohttp>=3.8->ccxt) (2.1.1)\n",
            "Requirement already satisfied: frozenlist>=1.1.1 in /usr/local/lib/python3.8/dist-packages (from aiohttp>=3.8->ccxt) (1.3.3)\n",
            "Requirement already satisfied: cffi>=1.12 in /usr/local/lib/python3.8/dist-packages (from cryptography>=2.6.1->ccxt) (1.15.1)\n",
            "Requirement already satisfied: chardet<5,>=3.0.2 in /usr/local/lib/python3.8/dist-packages (from requests>=2.18.4->ccxt) (4.0.0)\n",
            "Requirement already satisfied: idna<3,>=2.5 in /usr/local/lib/python3.8/dist-packages (from requests>=2.18.4->ccxt) (2.10)\n",
            "Requirement already satisfied: urllib3<1.27,>=1.21.1 in /usr/local/lib/python3.8/dist-packages (from requests>=2.18.4->ccxt) (1.24.3)\n",
            "Requirement already satisfied: pycparser in /usr/local/lib/python3.8/dist-packages (from cffi>=1.12->cryptography>=2.6.1->ccxt) (2.21)\n",
            "Installing collected packages: setuptools, pycares, cryptography, aiodns, ccxt\n",
            "  Attempting uninstall: setuptools\n",
            "    Found existing installation: setuptools 57.4.0\n",
            "    Uninstalling setuptools-57.4.0:\n",
            "      Successfully uninstalled setuptools-57.4.0\n",
            "\u001b[31mERROR: pip's dependency resolver does not currently take into account all the packages that are installed. This behaviour is the source of the following dependency conflicts.\n",
            "ipython 7.9.0 requires jedi>=0.10, which is not installed.\n",
            "cvxpy 1.2.3 requires setuptools<=64.0.2, but you have setuptools 67.1.0 which is incompatible.\u001b[0m\u001b[31m\n",
            "\u001b[0mSuccessfully installed aiodns-3.0.0 ccxt-2.7.39 cryptography-39.0.0 pycares-4.3.0 setuptools-67.1.0\n"
          ]
        }
      ],
      "source": [
        "import pandas as pd\n",
        "import seaborn as sns\n",
        "import matplotlib.pyplot as plt\n",
        "import numpy as np\n",
        "from statsmodels.formula.api import ols\n",
        "!pip install ccxt\n",
        "import ccxt as ccxt"
      ]
    },
    {
      "cell_type": "code",
      "source": [
        "from google.colab import drive\n",
        "drive.mount('/content/drive')"
      ],
      "metadata": {
        "colab": {
          "base_uri": "https://localhost:8080/"
        },
        "id": "LUA8vSAngq1o",
        "outputId": "dfa67b7f-190a-407b-a18b-982ae8498114"
      },
      "execution_count": 3,
      "outputs": [
        {
          "output_type": "stream",
          "name": "stdout",
          "text": [
            "Mounted at /content/drive\n"
          ]
        }
      ]
    },
    {
      "cell_type": "code",
      "source": [
        "data = '/content/drive/MyDrive/TotalMarketCSV File.csv'\n",
        "MarketDF = pd.read_csv(data)\n",
        "\n",
        "MarketDF.describe"
      ],
      "metadata": {
        "colab": {
          "base_uri": "https://localhost:8080/"
        },
        "id": "bUwAt44gePe0",
        "outputId": "5d976f79-5a13-4361-9e0f-6462a6c846d7"
      },
      "execution_count": 4,
      "outputs": [
        {
          "output_type": "execute_result",
          "data": {
            "text/plain": [
              "<bound method NDFrame.describe of       Unnamed: 0  24h_volume_usd  available_supply                 id  \\\n",
              "0              0    9.007640e+09      1.672352e+07            bitcoin   \n",
              "1              1    1.551330e+09      9.616537e+07           ethereum   \n",
              "2              2    1.111350e+09      1.684044e+07       bitcoin-cash   \n",
              "3              3    2.936090e+09      2.779530e+09               iota   \n",
              "4              4    2.315050e+08      3.873915e+10             ripple   \n",
              "...          ...             ...               ...                ...   \n",
              "1321        1321             NaN               NaN          turbocoin   \n",
              "1322        1322             NaN               NaN              birds   \n",
              "1323        1323             NaN               NaN  bitcoincashscrypt   \n",
              "1324        1324             NaN               NaN          swisscoin   \n",
              "1325        1325             NaN               NaN          faceblock   \n",
              "\n",
              "      last_updated  market_cap_usd    max_supply               name  \\\n",
              "0       1512549554    2.130490e+11  2.100000e+07            Bitcoin   \n",
              "1       1512549553    4.352945e+10           NaN           Ethereum   \n",
              "2       1512549578    2.529585e+10  2.100000e+07       Bitcoin Cash   \n",
              "3       1512549571    1.475225e+10  2.779530e+09               IOTA   \n",
              "4       1512549541    9.365343e+09  1.000000e+11             Ripple   \n",
              "...            ...             ...           ...                ...   \n",
              "1321    1512368664             NaN           NaN          TurboCoin   \n",
              "1322    1512535772             NaN           NaN              Birds   \n",
              "1323    1512548078             NaN           NaN  BitcoinCashScrypt   \n",
              "1324    1512540278             NaN           NaN          Swisscoin   \n",
              "1325    1512435283             NaN           NaN          Faceblock   \n",
              "\n",
              "      percent_change_1h  percent_change_24h  percent_change_7d     price_btc  \\\n",
              "0                  0.12                7.33              17.45  1.000000e+00   \n",
              "1                 -0.18               -3.93              -7.33  3.617670e-02   \n",
              "2                  1.65               -5.51              -4.75  1.200500e-01   \n",
              "3                 -2.38               83.35             255.82  4.241800e-04   \n",
              "4                  0.56               -3.70             -14.79  1.930000e-05   \n",
              "...                 ...                 ...                ...           ...   \n",
              "1321                NaN                 NaN               8.12  1.000000e-08   \n",
              "1322                NaN               10.62             -42.10  1.000000e-08   \n",
              "1323              -0.37              -37.39             -27.69  5.000000e-07   \n",
              "1324                NaN                4.39             -22.84  1.000000e-08   \n",
              "1325                NaN                 NaN              -6.83  1.400000e-07   \n",
              "\n",
              "         price_usd  rank symbol  total_supply  \n",
              "0     12739.500000     1    BTC  1.672352e+07  \n",
              "1       452.652000     2    ETH  9.616537e+07  \n",
              "2      1502.090000     3    BCH  1.684044e+07  \n",
              "3         5.307460     4  MIOTA  2.779530e+09  \n",
              "4         0.241754     5    XRP  9.999309e+10  \n",
              "...            ...   ...    ...           ...  \n",
              "1321      0.000114  1322  TURBO           NaN  \n",
              "1322      0.000122  1323  BIRDS           NaN  \n",
              "1323      0.006202  1324   BCCS  2.502380e+06  \n",
              "1324      0.000123  1325    SIC  1.020000e+10  \n",
              "1325      0.001654  1326    FBL  1.000000e+07  \n",
              "\n",
              "[1326 rows x 16 columns]>"
            ]
          },
          "metadata": {},
          "execution_count": 4
        }
      ]
    },
    {
      "cell_type": "code",
      "source": [
        "MarketDF.shape\n",
        "MarketDF.info"
      ],
      "metadata": {
        "colab": {
          "base_uri": "https://localhost:8080/"
        },
        "id": "-_u_HKg-gfDi",
        "outputId": "616a004e-0b81-4852-de71-97467ac1179b"
      },
      "execution_count": 5,
      "outputs": [
        {
          "output_type": "execute_result",
          "data": {
            "text/plain": [
              "<bound method DataFrame.info of       Unnamed: 0  24h_volume_usd  available_supply                 id  \\\n",
              "0              0    9.007640e+09      1.672352e+07            bitcoin   \n",
              "1              1    1.551330e+09      9.616537e+07           ethereum   \n",
              "2              2    1.111350e+09      1.684044e+07       bitcoin-cash   \n",
              "3              3    2.936090e+09      2.779530e+09               iota   \n",
              "4              4    2.315050e+08      3.873915e+10             ripple   \n",
              "...          ...             ...               ...                ...   \n",
              "1321        1321             NaN               NaN          turbocoin   \n",
              "1322        1322             NaN               NaN              birds   \n",
              "1323        1323             NaN               NaN  bitcoincashscrypt   \n",
              "1324        1324             NaN               NaN          swisscoin   \n",
              "1325        1325             NaN               NaN          faceblock   \n",
              "\n",
              "      last_updated  market_cap_usd    max_supply               name  \\\n",
              "0       1512549554    2.130490e+11  2.100000e+07            Bitcoin   \n",
              "1       1512549553    4.352945e+10           NaN           Ethereum   \n",
              "2       1512549578    2.529585e+10  2.100000e+07       Bitcoin Cash   \n",
              "3       1512549571    1.475225e+10  2.779530e+09               IOTA   \n",
              "4       1512549541    9.365343e+09  1.000000e+11             Ripple   \n",
              "...            ...             ...           ...                ...   \n",
              "1321    1512368664             NaN           NaN          TurboCoin   \n",
              "1322    1512535772             NaN           NaN              Birds   \n",
              "1323    1512548078             NaN           NaN  BitcoinCashScrypt   \n",
              "1324    1512540278             NaN           NaN          Swisscoin   \n",
              "1325    1512435283             NaN           NaN          Faceblock   \n",
              "\n",
              "      percent_change_1h  percent_change_24h  percent_change_7d     price_btc  \\\n",
              "0                  0.12                7.33              17.45  1.000000e+00   \n",
              "1                 -0.18               -3.93              -7.33  3.617670e-02   \n",
              "2                  1.65               -5.51              -4.75  1.200500e-01   \n",
              "3                 -2.38               83.35             255.82  4.241800e-04   \n",
              "4                  0.56               -3.70             -14.79  1.930000e-05   \n",
              "...                 ...                 ...                ...           ...   \n",
              "1321                NaN                 NaN               8.12  1.000000e-08   \n",
              "1322                NaN               10.62             -42.10  1.000000e-08   \n",
              "1323              -0.37              -37.39             -27.69  5.000000e-07   \n",
              "1324                NaN                4.39             -22.84  1.000000e-08   \n",
              "1325                NaN                 NaN              -6.83  1.400000e-07   \n",
              "\n",
              "         price_usd  rank symbol  total_supply  \n",
              "0     12739.500000     1    BTC  1.672352e+07  \n",
              "1       452.652000     2    ETH  9.616537e+07  \n",
              "2      1502.090000     3    BCH  1.684044e+07  \n",
              "3         5.307460     4  MIOTA  2.779530e+09  \n",
              "4         0.241754     5    XRP  9.999309e+10  \n",
              "...            ...   ...    ...           ...  \n",
              "1321      0.000114  1322  TURBO           NaN  \n",
              "1322      0.000122  1323  BIRDS           NaN  \n",
              "1323      0.006202  1324   BCCS  2.502380e+06  \n",
              "1324      0.000123  1325    SIC  1.020000e+10  \n",
              "1325      0.001654  1326    FBL  1.000000e+07  \n",
              "\n",
              "[1326 rows x 16 columns]>"
            ]
          },
          "metadata": {},
          "execution_count": 5
        }
      ]
    },
    {
      "cell_type": "code",
      "source": [
        "MarketDF.isnull().sum()"
      ],
      "metadata": {
        "colab": {
          "base_uri": "https://localhost:8080/"
        },
        "id": "QZxyg5hpfDso",
        "outputId": "edd172d3-9e1a-4e10-d98b-5b00f9be61f0"
      },
      "execution_count": 6,
      "outputs": [
        {
          "output_type": "execute_result",
          "data": {
            "text/plain": [
              "Unnamed: 0               0\n",
              "24h_volume_usd          56\n",
              "available_supply       295\n",
              "id                       0\n",
              "last_updated             0\n",
              "market_cap_usd         295\n",
              "max_supply            1111\n",
              "name                     0\n",
              "percent_change_1h       53\n",
              "percent_change_24h      56\n",
              "percent_change_7d       43\n",
              "price_btc                0\n",
              "price_usd                0\n",
              "rank                     0\n",
              "symbol                   0\n",
              "total_supply           115\n",
              "dtype: int64"
            ]
          },
          "metadata": {},
          "execution_count": 6
        }
      ]
    },
    {
      "cell_type": "code",
      "source": [
        "d1 = MarketDF.dropna()\n",
        "print(d1)"
      ],
      "metadata": {
        "colab": {
          "base_uri": "https://localhost:8080/"
        },
        "id": "ZU7xQEp8hdLY",
        "outputId": "f10ab6b4-555e-410f-cea2-da63cb6246bc"
      },
      "execution_count": 7,
      "outputs": [
        {
          "output_type": "stream",
          "name": "stdout",
          "text": [
            "      Unnamed: 0  24h_volume_usd  available_supply                  id  \\\n",
            "0              0    9.007640e+09      1.672352e+07             bitcoin   \n",
            "2              2    1.111350e+09      1.684044e+07        bitcoin-cash   \n",
            "3              3    2.936090e+09      2.779530e+09                iota   \n",
            "4              4    2.315050e+08      3.873915e+10              ripple   \n",
            "5              5    2.289430e+08      7.736420e+06                dash   \n",
            "...          ...             ...               ...                 ...   \n",
            "1020        1020    6.909060e+01      1.662700e+04              enigma   \n",
            "1021        1021    1.300720e+02      1.994860e+05             ulatech   \n",
            "1024        1024    2.231020e+02      4.213000e+05  digital-money-bits   \n",
            "1028        1028    4.271860e+01      8.714000e+04          caliphcoin   \n",
            "1030        1030    1.718820e+02      7.924200e+04       applecoin-apw   \n",
            "\n",
            "      last_updated  market_cap_usd    max_supply                name  \\\n",
            "0       1512549554    2.130490e+11  2.100000e+07             Bitcoin   \n",
            "2       1512549578    2.529585e+10  2.100000e+07        Bitcoin Cash   \n",
            "3       1512549571    1.475225e+10  2.779530e+09                IOTA   \n",
            "4       1512549541    9.365343e+09  1.000000e+11              Ripple   \n",
            "5       1512549542    5.794076e+09  1.890000e+07                Dash   \n",
            "...            ...             ...           ...                 ...   \n",
            "1020    1512549554    2.303000e+03  5.000000e+06              Enigma   \n",
            "1021    1512549576    2.302000e+03  9.000000e+07             Ulatech   \n",
            "1024    1512549567    5.150000e+02  5.000000e+07  Digital Money Bits   \n",
            "1028    1512549561    1.000000e+02  1.890000e+08          CaliphCoin   \n",
            "1030    1512549575    1.000000e+01  2.100000e+09           AppleCoin   \n",
            "\n",
            "      percent_change_1h  percent_change_24h  percent_change_7d     price_btc  \\\n",
            "0                  0.12                7.33              17.45  1.000000e+00   \n",
            "2                  1.65               -5.51              -4.75  1.200500e-01   \n",
            "3                 -2.38               83.35             255.82  4.241800e-04   \n",
            "4                  0.56               -3.70             -14.79  1.930000e-05   \n",
            "5                  1.22               -3.31              10.64  5.985610e-02   \n",
            "...                 ...                 ...                ...           ...   \n",
            "1020               0.54              -20.54             -23.56  1.110000e-05   \n",
            "1021               0.51               29.06             -64.39  9.200000e-07   \n",
            "1024               0.56                3.81              13.28  1.000000e-07   \n",
            "1028               0.54               53.88              67.27  9.000000e-08   \n",
            "1030               0.54                6.27              17.44  1.000000e-08   \n",
            "\n",
            "         price_usd  rank symbol  total_supply  \n",
            "0     12739.500000     1    BTC  1.672352e+07  \n",
            "2      1502.090000     3    BCH  1.684044e+07  \n",
            "3         5.307460     4  MIOTA  2.779530e+09  \n",
            "4         0.241754     5    XRP  9.999309e+10  \n",
            "5       748.935000     6   DASH  7.736420e+06  \n",
            "...            ...   ...    ...           ...  \n",
            "1020      0.138511  1021    XNG  6.662700e+04  \n",
            "1021      0.011538  1022    ULA  5.419949e+07  \n",
            "1024      0.001222  1025    DMB  1.042130e+07  \n",
            "1028      0.001145  1029   CALC  1.485871e+08  \n",
            "1030      0.000125  1031    APW  1.600079e+09  \n",
            "\n",
            "[186 rows x 16 columns]\n"
          ]
        }
      ]
    },
    {
      "cell_type": "code",
      "source": [
        "d1.isnull().sum()"
      ],
      "metadata": {
        "colab": {
          "base_uri": "https://localhost:8080/"
        },
        "id": "PolA89PKjkgN",
        "outputId": "3ef0e45f-d22b-4b36-9226-60ef49dd6f13"
      },
      "execution_count": 8,
      "outputs": [
        {
          "output_type": "execute_result",
          "data": {
            "text/plain": [
              "Unnamed: 0            0\n",
              "24h_volume_usd        0\n",
              "available_supply      0\n",
              "id                    0\n",
              "last_updated          0\n",
              "market_cap_usd        0\n",
              "max_supply            0\n",
              "name                  0\n",
              "percent_change_1h     0\n",
              "percent_change_24h    0\n",
              "percent_change_7d     0\n",
              "price_btc             0\n",
              "price_usd             0\n",
              "rank                  0\n",
              "symbol                0\n",
              "total_supply          0\n",
              "dtype: int64"
            ]
          },
          "metadata": {},
          "execution_count": 8
        }
      ]
    },
    {
      "cell_type": "code",
      "source": [
        "df = pd.DataFrame(d1)\n",
        "print(df)"
      ],
      "metadata": {
        "colab": {
          "base_uri": "https://localhost:8080/"
        },
        "id": "bNB6qEwujo25",
        "outputId": "fa663530-d235-40d5-989e-4c2d75d3fb0b"
      },
      "execution_count": 9,
      "outputs": [
        {
          "output_type": "stream",
          "name": "stdout",
          "text": [
            "      Unnamed: 0  24h_volume_usd  available_supply                  id  \\\n",
            "0              0    9.007640e+09      1.672352e+07             bitcoin   \n",
            "2              2    1.111350e+09      1.684044e+07        bitcoin-cash   \n",
            "3              3    2.936090e+09      2.779530e+09                iota   \n",
            "4              4    2.315050e+08      3.873915e+10              ripple   \n",
            "5              5    2.289430e+08      7.736420e+06                dash   \n",
            "...          ...             ...               ...                 ...   \n",
            "1020        1020    6.909060e+01      1.662700e+04              enigma   \n",
            "1021        1021    1.300720e+02      1.994860e+05             ulatech   \n",
            "1024        1024    2.231020e+02      4.213000e+05  digital-money-bits   \n",
            "1028        1028    4.271860e+01      8.714000e+04          caliphcoin   \n",
            "1030        1030    1.718820e+02      7.924200e+04       applecoin-apw   \n",
            "\n",
            "      last_updated  market_cap_usd    max_supply                name  \\\n",
            "0       1512549554    2.130490e+11  2.100000e+07             Bitcoin   \n",
            "2       1512549578    2.529585e+10  2.100000e+07        Bitcoin Cash   \n",
            "3       1512549571    1.475225e+10  2.779530e+09                IOTA   \n",
            "4       1512549541    9.365343e+09  1.000000e+11              Ripple   \n",
            "5       1512549542    5.794076e+09  1.890000e+07                Dash   \n",
            "...            ...             ...           ...                 ...   \n",
            "1020    1512549554    2.303000e+03  5.000000e+06              Enigma   \n",
            "1021    1512549576    2.302000e+03  9.000000e+07             Ulatech   \n",
            "1024    1512549567    5.150000e+02  5.000000e+07  Digital Money Bits   \n",
            "1028    1512549561    1.000000e+02  1.890000e+08          CaliphCoin   \n",
            "1030    1512549575    1.000000e+01  2.100000e+09           AppleCoin   \n",
            "\n",
            "      percent_change_1h  percent_change_24h  percent_change_7d     price_btc  \\\n",
            "0                  0.12                7.33              17.45  1.000000e+00   \n",
            "2                  1.65               -5.51              -4.75  1.200500e-01   \n",
            "3                 -2.38               83.35             255.82  4.241800e-04   \n",
            "4                  0.56               -3.70             -14.79  1.930000e-05   \n",
            "5                  1.22               -3.31              10.64  5.985610e-02   \n",
            "...                 ...                 ...                ...           ...   \n",
            "1020               0.54              -20.54             -23.56  1.110000e-05   \n",
            "1021               0.51               29.06             -64.39  9.200000e-07   \n",
            "1024               0.56                3.81              13.28  1.000000e-07   \n",
            "1028               0.54               53.88              67.27  9.000000e-08   \n",
            "1030               0.54                6.27              17.44  1.000000e-08   \n",
            "\n",
            "         price_usd  rank symbol  total_supply  \n",
            "0     12739.500000     1    BTC  1.672352e+07  \n",
            "2      1502.090000     3    BCH  1.684044e+07  \n",
            "3         5.307460     4  MIOTA  2.779530e+09  \n",
            "4         0.241754     5    XRP  9.999309e+10  \n",
            "5       748.935000     6   DASH  7.736420e+06  \n",
            "...            ...   ...    ...           ...  \n",
            "1020      0.138511  1021    XNG  6.662700e+04  \n",
            "1021      0.011538  1022    ULA  5.419949e+07  \n",
            "1024      0.001222  1025    DMB  1.042130e+07  \n",
            "1028      0.001145  1029   CALC  1.485871e+08  \n",
            "1030      0.000125  1031    APW  1.600079e+09  \n",
            "\n",
            "[186 rows x 16 columns]\n"
          ]
        }
      ]
    },
    {
      "cell_type": "code",
      "source": [
        "df_clean = df[['24h_volume_usd', 'available_supply', 'last_updated', 'market_cap_usd', \n",
        "               'max_supply', 'name', 'percent_change_1h', 'percent_change_24h',\n",
        "               'percent_change_7d', 'price_btc', 'price_usd', 'symbol', 'total_supply']]\n",
        "df_clean.head()"
      ],
      "metadata": {
        "colab": {
          "base_uri": "https://localhost:8080/",
          "height": 268
        },
        "id": "oYlPAxaun0Pa",
        "outputId": "6deca124-ea1c-4469-f722-fb2cea9ea8e3"
      },
      "execution_count": 10,
      "outputs": [
        {
          "output_type": "execute_result",
          "data": {
            "text/plain": [
              "   24h_volume_usd  available_supply  last_updated  market_cap_usd  \\\n",
              "0    9.007640e+09      1.672352e+07    1512549554    2.130490e+11   \n",
              "2    1.111350e+09      1.684044e+07    1512549578    2.529585e+10   \n",
              "3    2.936090e+09      2.779530e+09    1512549571    1.475225e+10   \n",
              "4    2.315050e+08      3.873915e+10    1512549541    9.365343e+09   \n",
              "5    2.289430e+08      7.736420e+06    1512549542    5.794076e+09   \n",
              "\n",
              "     max_supply          name  percent_change_1h  percent_change_24h  \\\n",
              "0  2.100000e+07       Bitcoin               0.12                7.33   \n",
              "2  2.100000e+07  Bitcoin Cash               1.65               -5.51   \n",
              "3  2.779530e+09          IOTA              -2.38               83.35   \n",
              "4  1.000000e+11        Ripple               0.56               -3.70   \n",
              "5  1.890000e+07          Dash               1.22               -3.31   \n",
              "\n",
              "   percent_change_7d  price_btc     price_usd symbol  total_supply  \n",
              "0              17.45   1.000000  12739.500000    BTC  1.672352e+07  \n",
              "2              -4.75   0.120050   1502.090000    BCH  1.684044e+07  \n",
              "3             255.82   0.000424      5.307460  MIOTA  2.779530e+09  \n",
              "4             -14.79   0.000019      0.241754    XRP  9.999309e+10  \n",
              "5              10.64   0.059856    748.935000   DASH  7.736420e+06  "
            ],
            "text/html": [
              "\n",
              "  <div id=\"df-9b2cc0d6-5292-4afb-84d3-dd1a44a39073\">\n",
              "    <div class=\"colab-df-container\">\n",
              "      <div>\n",
              "<style scoped>\n",
              "    .dataframe tbody tr th:only-of-type {\n",
              "        vertical-align: middle;\n",
              "    }\n",
              "\n",
              "    .dataframe tbody tr th {\n",
              "        vertical-align: top;\n",
              "    }\n",
              "\n",
              "    .dataframe thead th {\n",
              "        text-align: right;\n",
              "    }\n",
              "</style>\n",
              "<table border=\"1\" class=\"dataframe\">\n",
              "  <thead>\n",
              "    <tr style=\"text-align: right;\">\n",
              "      <th></th>\n",
              "      <th>24h_volume_usd</th>\n",
              "      <th>available_supply</th>\n",
              "      <th>last_updated</th>\n",
              "      <th>market_cap_usd</th>\n",
              "      <th>max_supply</th>\n",
              "      <th>name</th>\n",
              "      <th>percent_change_1h</th>\n",
              "      <th>percent_change_24h</th>\n",
              "      <th>percent_change_7d</th>\n",
              "      <th>price_btc</th>\n",
              "      <th>price_usd</th>\n",
              "      <th>symbol</th>\n",
              "      <th>total_supply</th>\n",
              "    </tr>\n",
              "  </thead>\n",
              "  <tbody>\n",
              "    <tr>\n",
              "      <th>0</th>\n",
              "      <td>9.007640e+09</td>\n",
              "      <td>1.672352e+07</td>\n",
              "      <td>1512549554</td>\n",
              "      <td>2.130490e+11</td>\n",
              "      <td>2.100000e+07</td>\n",
              "      <td>Bitcoin</td>\n",
              "      <td>0.12</td>\n",
              "      <td>7.33</td>\n",
              "      <td>17.45</td>\n",
              "      <td>1.000000</td>\n",
              "      <td>12739.500000</td>\n",
              "      <td>BTC</td>\n",
              "      <td>1.672352e+07</td>\n",
              "    </tr>\n",
              "    <tr>\n",
              "      <th>2</th>\n",
              "      <td>1.111350e+09</td>\n",
              "      <td>1.684044e+07</td>\n",
              "      <td>1512549578</td>\n",
              "      <td>2.529585e+10</td>\n",
              "      <td>2.100000e+07</td>\n",
              "      <td>Bitcoin Cash</td>\n",
              "      <td>1.65</td>\n",
              "      <td>-5.51</td>\n",
              "      <td>-4.75</td>\n",
              "      <td>0.120050</td>\n",
              "      <td>1502.090000</td>\n",
              "      <td>BCH</td>\n",
              "      <td>1.684044e+07</td>\n",
              "    </tr>\n",
              "    <tr>\n",
              "      <th>3</th>\n",
              "      <td>2.936090e+09</td>\n",
              "      <td>2.779530e+09</td>\n",
              "      <td>1512549571</td>\n",
              "      <td>1.475225e+10</td>\n",
              "      <td>2.779530e+09</td>\n",
              "      <td>IOTA</td>\n",
              "      <td>-2.38</td>\n",
              "      <td>83.35</td>\n",
              "      <td>255.82</td>\n",
              "      <td>0.000424</td>\n",
              "      <td>5.307460</td>\n",
              "      <td>MIOTA</td>\n",
              "      <td>2.779530e+09</td>\n",
              "    </tr>\n",
              "    <tr>\n",
              "      <th>4</th>\n",
              "      <td>2.315050e+08</td>\n",
              "      <td>3.873915e+10</td>\n",
              "      <td>1512549541</td>\n",
              "      <td>9.365343e+09</td>\n",
              "      <td>1.000000e+11</td>\n",
              "      <td>Ripple</td>\n",
              "      <td>0.56</td>\n",
              "      <td>-3.70</td>\n",
              "      <td>-14.79</td>\n",
              "      <td>0.000019</td>\n",
              "      <td>0.241754</td>\n",
              "      <td>XRP</td>\n",
              "      <td>9.999309e+10</td>\n",
              "    </tr>\n",
              "    <tr>\n",
              "      <th>5</th>\n",
              "      <td>2.289430e+08</td>\n",
              "      <td>7.736420e+06</td>\n",
              "      <td>1512549542</td>\n",
              "      <td>5.794076e+09</td>\n",
              "      <td>1.890000e+07</td>\n",
              "      <td>Dash</td>\n",
              "      <td>1.22</td>\n",
              "      <td>-3.31</td>\n",
              "      <td>10.64</td>\n",
              "      <td>0.059856</td>\n",
              "      <td>748.935000</td>\n",
              "      <td>DASH</td>\n",
              "      <td>7.736420e+06</td>\n",
              "    </tr>\n",
              "  </tbody>\n",
              "</table>\n",
              "</div>\n",
              "      <button class=\"colab-df-convert\" onclick=\"convertToInteractive('df-9b2cc0d6-5292-4afb-84d3-dd1a44a39073')\"\n",
              "              title=\"Convert this dataframe to an interactive table.\"\n",
              "              style=\"display:none;\">\n",
              "        \n",
              "  <svg xmlns=\"http://www.w3.org/2000/svg\" height=\"24px\"viewBox=\"0 0 24 24\"\n",
              "       width=\"24px\">\n",
              "    <path d=\"M0 0h24v24H0V0z\" fill=\"none\"/>\n",
              "    <path d=\"M18.56 5.44l.94 2.06.94-2.06 2.06-.94-2.06-.94-.94-2.06-.94 2.06-2.06.94zm-11 1L8.5 8.5l.94-2.06 2.06-.94-2.06-.94L8.5 2.5l-.94 2.06-2.06.94zm10 10l.94 2.06.94-2.06 2.06-.94-2.06-.94-.94-2.06-.94 2.06-2.06.94z\"/><path d=\"M17.41 7.96l-1.37-1.37c-.4-.4-.92-.59-1.43-.59-.52 0-1.04.2-1.43.59L10.3 9.45l-7.72 7.72c-.78.78-.78 2.05 0 2.83L4 21.41c.39.39.9.59 1.41.59.51 0 1.02-.2 1.41-.59l7.78-7.78 2.81-2.81c.8-.78.8-2.07 0-2.86zM5.41 20L4 18.59l7.72-7.72 1.47 1.35L5.41 20z\"/>\n",
              "  </svg>\n",
              "      </button>\n",
              "      \n",
              "  <style>\n",
              "    .colab-df-container {\n",
              "      display:flex;\n",
              "      flex-wrap:wrap;\n",
              "      gap: 12px;\n",
              "    }\n",
              "\n",
              "    .colab-df-convert {\n",
              "      background-color: #E8F0FE;\n",
              "      border: none;\n",
              "      border-radius: 50%;\n",
              "      cursor: pointer;\n",
              "      display: none;\n",
              "      fill: #1967D2;\n",
              "      height: 32px;\n",
              "      padding: 0 0 0 0;\n",
              "      width: 32px;\n",
              "    }\n",
              "\n",
              "    .colab-df-convert:hover {\n",
              "      background-color: #E2EBFA;\n",
              "      box-shadow: 0px 1px 2px rgba(60, 64, 67, 0.3), 0px 1px 3px 1px rgba(60, 64, 67, 0.15);\n",
              "      fill: #174EA6;\n",
              "    }\n",
              "\n",
              "    [theme=dark] .colab-df-convert {\n",
              "      background-color: #3B4455;\n",
              "      fill: #D2E3FC;\n",
              "    }\n",
              "\n",
              "    [theme=dark] .colab-df-convert:hover {\n",
              "      background-color: #434B5C;\n",
              "      box-shadow: 0px 1px 3px 1px rgba(0, 0, 0, 0.15);\n",
              "      filter: drop-shadow(0px 1px 2px rgba(0, 0, 0, 0.3));\n",
              "      fill: #FFFFFF;\n",
              "    }\n",
              "  </style>\n",
              "\n",
              "      <script>\n",
              "        const buttonEl =\n",
              "          document.querySelector('#df-9b2cc0d6-5292-4afb-84d3-dd1a44a39073 button.colab-df-convert');\n",
              "        buttonEl.style.display =\n",
              "          google.colab.kernel.accessAllowed ? 'block' : 'none';\n",
              "\n",
              "        async function convertToInteractive(key) {\n",
              "          const element = document.querySelector('#df-9b2cc0d6-5292-4afb-84d3-dd1a44a39073');\n",
              "          const dataTable =\n",
              "            await google.colab.kernel.invokeFunction('convertToInteractive',\n",
              "                                                     [key], {});\n",
              "          if (!dataTable) return;\n",
              "\n",
              "          const docLinkHtml = 'Like what you see? Visit the ' +\n",
              "            '<a target=\"_blank\" href=https://colab.research.google.com/notebooks/data_table.ipynb>data table notebook</a>'\n",
              "            + ' to learn more about interactive tables.';\n",
              "          element.innerHTML = '';\n",
              "          dataTable['output_type'] = 'display_data';\n",
              "          await google.colab.output.renderOutput(dataTable, element);\n",
              "          const docLink = document.createElement('div');\n",
              "          docLink.innerHTML = docLinkHtml;\n",
              "          element.appendChild(docLink);\n",
              "        }\n",
              "      </script>\n",
              "    </div>\n",
              "  </div>\n",
              "  "
            ]
          },
          "metadata": {},
          "execution_count": 10
        }
      ]
    },
    {
      "cell_type": "code",
      "source": [
        "import pandas as pd\n",
        "\n",
        "# Read the dataframe\n",
        "df = df_clean\n",
        "\n",
        "# Group the data by column \"market_cap_usd\" and compute the mean of column \"price_btc\" for each group\n",
        "df_grouped = df.groupby(\"price_btc\")[\"market_cap_usd\"].mean()\n",
        "\n",
        "# Group the data by column \"price_usd\" and compute the mean and standard deviation of columns \"percent_change_1h\", \"percent_change_24h\", \"percent_change_7d\" for each group\n",
        "df_aggregated = df.groupby(\"price_usd\").agg({\"percent_change_1h\": [\"mean\", \"std\"], \n",
        "                                             \"percent_change_24h\": [\"mean\", \"std\"], \n",
        "                                             \"percent_change_7d\": [\"mean\", \"std\"]})\n",
        "\n",
        "# Group the data by column \"price_usd\" and apply a custom function to the groups\n",
        "def custom_function(x):\n",
        "    return x.max() - x.min()\n",
        "\n",
        "df_percents = df.groupby(\"price_usd\").agg({\"percent_change_1h\": custom_function,\n",
        "                                           \"percent_change_24h\": custom_function,\n",
        "                                           \"percent_change_7d\": custom_function})\n",
        "\n",
        "# Compute the rolling average of a data frame with a window size of 2\n",
        "df_rolling = df.rolling(window=2).mean()\n",
        "print(df_rolling)\n"
      ],
      "metadata": {
        "id": "wGHUy1nWqPGA",
        "colab": {
          "base_uri": "https://localhost:8080/"
        },
        "outputId": "697d6c8d-cf7c-4089-f10d-96b7139b1a62"
      },
      "execution_count": 11,
      "outputs": [
        {
          "output_type": "stream",
          "name": "stdout",
          "text": [
            "      24h_volume_usd  available_supply  last_updated  market_cap_usd  \\\n",
            "0                NaN               NaN           NaN             NaN   \n",
            "2       5.059495e+09      1.678198e+07  1.512550e+09    1.191724e+11   \n",
            "3       2.023720e+09      1.398185e+09  1.512550e+09    2.002405e+10   \n",
            "4       1.583798e+09      2.075934e+10  1.512550e+09    1.205879e+10   \n",
            "5       2.302240e+08      1.937344e+10  1.512550e+09    7.579709e+09   \n",
            "...              ...               ...           ...             ...   \n",
            "1020    4.873285e+01      4.591662e+06  1.512550e+09    5.842500e+03   \n",
            "1021    9.958130e+01      1.080565e+05  1.512550e+09    2.302500e+03   \n",
            "1024    1.765870e+02      3.103930e+05  1.512550e+09    1.408500e+03   \n",
            "1028    1.329103e+02      2.542200e+05  1.512550e+09    3.075000e+02   \n",
            "1030    1.073003e+02      8.319100e+04  1.512550e+09    5.500000e+01   \n",
            "\n",
            "        max_supply  percent_change_1h  percent_change_24h  percent_change_7d  \\\n",
            "0              NaN                NaN                 NaN                NaN   \n",
            "2     2.100000e+07              0.885               0.910              6.350   \n",
            "3     1.400265e+09             -0.365              38.920            125.535   \n",
            "4     5.138977e+10             -0.910              39.825            120.515   \n",
            "5     5.000945e+10              0.890              -3.505             -2.075   \n",
            "...            ...                ...                 ...                ...   \n",
            "1020  1.250000e+07             -0.750             -27.950             31.445   \n",
            "1021  4.750000e+07              0.525               4.260            -43.975   \n",
            "1024  7.000000e+07              0.535              16.435            -25.555   \n",
            "1028  1.195000e+08              0.550              28.845             40.275   \n",
            "1030  1.144500e+09              0.540              30.075             42.355   \n",
            "\n",
            "         price_btc    price_usd  total_supply  \n",
            "0              NaN          NaN           NaN  \n",
            "2     5.600250e-01  7120.795000  1.678198e+07  \n",
            "3     6.023709e-02   753.698730  1.398185e+09  \n",
            "4     2.217400e-04     2.774607  5.138631e+10  \n",
            "5     2.993770e-02   374.588377  5.000042e+10  \n",
            "...            ...          ...           ...  \n",
            "1020  5.590000e-06     0.069767  4.716662e+06  \n",
            "1021  6.010000e-06     0.075024  2.713306e+07  \n",
            "1024  5.100000e-07     0.006380  3.231039e+07  \n",
            "1028  9.500000e-08     0.001184  7.950422e+07  \n",
            "1030  5.000000e-08     0.000635  8.743332e+08  \n",
            "\n",
            "[186 rows x 11 columns]\n"
          ]
        }
      ]
    },
    {
      "cell_type": "code",
      "source": [
        " import matplotlib.pyplot as plt\n",
        "\n",
        "# Plot the data\n",
        "#plt.plot(df_clean.index, df_clean[[\"price_btc\", \"price_usd\"]])\n",
        "df[\"price_btc\"].plot()\n",
        "df[\"price_usd\"].plot()\n",
        "\n",
        "\n",
        "# Add labels and title\n",
        "plt.xlabel(\"Date\")\n",
        "plt.ylabel(\"Price\")\n",
        "plt.title(\"Market Average for Price Changes between Bitcoin and U.S Dollar\")\n",
        "\n",
        "# Show the plot\n",
        "plt.show()\n"
      ],
      "metadata": {
        "id": "Th7E-Osg3nD4",
        "colab": {
          "base_uri": "https://localhost:8080/",
          "height": 295
        },
        "outputId": "168277e3-a1e2-4638-f0eb-5fe131a7762d"
      },
      "execution_count": 12,
      "outputs": [
        {
          "output_type": "display_data",
          "data": {
            "text/plain": [
              "<Figure size 432x288 with 1 Axes>"
            ],
            "image/png": "[encoded data removed]"
          },
          "metadata": {
            "needs_background": "light"
          }
        }
      ]
    },
    {
      "cell_type": "code",
      "source": [
        "# Plot the data with red circles as markers\n",
        "plt.plot(df_clean.index, df_clean[\"price_usd\"], \"r-o\")"
      ],
      "metadata": {
        "id": "1G6giCPE4BIy",
        "colab": {
          "base_uri": "https://localhost:8080/",
          "height": 282
        },
        "outputId": "7682cedc-feb4-4f16-f63b-0e2f7ecd8338"
      },
      "execution_count": 13,
      "outputs": [
        {
          "output_type": "execute_result",
          "data": {
            "text/plain": [
              "[<matplotlib.lines.Line2D at 0x7fb199e997f0>]"
            ]
          },
          "metadata": {},
          "execution_count": 13
        },
        {
          "output_type": "display_data",
          "data": {
            "text/plain": [
              "<Figure size 432x288 with 1 Axes>"
            ],
            "image/png": "[encoded data removed]"
          },
          "metadata": {
            "needs_background": "light"
          }
        }
      ]
    },
    {
      "cell_type": "code",
      "source": [
        "plt.bar(df_clean.index, df_clean[\"24h_volume_usd\"])"
      ],
      "metadata": {
        "id": "o5TAEDzg5mzw",
        "colab": {
          "base_uri": "https://localhost:8080/",
          "height": 293
        },
        "outputId": "b6d1f279-b238-4801-d901-9dafb4f85963"
      },
      "execution_count": 14,
      "outputs": [
        {
          "output_type": "execute_result",
          "data": {
            "text/plain": [
              "<BarContainer object of 186 artists>"
            ]
          },
          "metadata": {},
          "execution_count": 14
        },
        {
          "output_type": "display_data",
          "data": {
            "text/plain": [
              "<Figure size 432x288 with 1 Axes>"
            ],
            "image/png": "[encoded data removed]"
          },
          "metadata": {
            "needs_background": "light"
          }
        }
      ]
    },
    {
      "cell_type": "code",
      "source": [
        "plt.scatter(df_clean.index, df_clean[\"percent_change_7d\"])"
      ],
      "metadata": {
        "id": "An9NVnFg5sRH",
        "colab": {
          "base_uri": "https://localhost:8080/",
          "height": 282
        },
        "outputId": "899a2f2a-8142-44c4-bad2-d1d384060812"
      },
      "execution_count": 15,
      "outputs": [
        {
          "output_type": "execute_result",
          "data": {
            "text/plain": [
              "<matplotlib.collections.PathCollection at 0x7fb199d734f0>"
            ]
          },
          "metadata": {},
          "execution_count": 15
        },
        {
          "output_type": "display_data",
          "data": {
            "text/plain": [
              "<Figure size 432x288 with 1 Axes>"
            ],
            "image/png": "[encoded data removed]"
          },
          "metadata": {
            "needs_background": "light"
          }
        }
      ]
    },
    {
      "cell_type": "code",
      "source": [
        "class Portfolio:\n",
        "    def __init__(self):\n",
        "        self.df_clean = {}  # Dictionary to hold the stocks in the Portfolio\n",
        "\n",
        "    def add_stock(self, symbol, shares):\n",
        "        \"\"\"Add a stock to the portfolio\"\"\"\n",
        "        self.df_clean[symbol] = shares\n",
        "\n",
        "    def remove_stock(self, symbol):\n",
        "        \"\"\"Remove a stock from the portfolio\"\"\"\n",
        "        del self.df_clean[symbol]\n",
        "\n",
        "    def get_stocks(self):\n",
        "        \"\"\"Get a list of the stocks in the portfolio\"\"\"\n",
        "        return list(self.df_clean.keys())\n",
        "\n",
        "    def get_shares(self, symbol):\n",
        "        \"\"\"Get the number of shares of a stock in the portfolio\"\"\"\n",
        "        return self.stocks[symbol]\n",
        "\n",
        "# Create a new portfolio\n",
        "p = Portfolio()\n",
        "\n",
        "# Add some stocks to the portfolio\n",
        "p.add_stock(\"XMR\", 100)\n",
        "p.add_stock(\"ADA\", 50)\n",
        "p.add_stock(\"GRT\", 200)\n",
        "\n",
        "\n",
        "# Print the stocks in the portfolio\n",
        "print(p.get_stocks())\n",
        "\n",
        "# Output: ['XMR', 'ADA', 'GRT']\n"
      ],
      "metadata": {
        "id": "wofy_E4e7Xw3",
        "colab": {
          "base_uri": "https://localhost:8080/"
        },
        "outputId": "6fa5d6c4-4e6d-4255-85a6-c9590b752bdb"
      },
      "execution_count": 16,
      "outputs": [
        {
          "output_type": "stream",
          "name": "stdout",
          "text": [
            "['XMR', 'ADA', 'GRT']\n"
          ]
        }
      ]
    },
    {
      "cell_type": "code",
      "source": [
        "import pandas as pd\n",
        "\n",
        "def liquidity(data):\n",
        "    \"\"\"Calculate the liquidity of stocks in the data frame\"\"\"\n",
        "    # Calculate the liquidity as the product of the volume and the inverse of the spread\n",
        "    data[\"Liquidity\"] = df_clean[\"24h_volume_usd\"] / (data[\"available_supply\"] \n",
        "                                                      - data[\"price_usd\"])\n",
        "    return data\n",
        "\n",
        "# Load the stock data into a data frame\n",
        "df = pd.read_csv(\"/content/drive/MyDrive/TotalMarketCSV File.csv\")\n",
        "\n",
        "# Calculate the liquidity of the stocks\n",
        "df = liquidity(df)\n",
        "\n",
        "# Print the liquidity of the stocks\n",
        "print(df[\"Liquidity\"])\n"
      ],
      "metadata": {
        "id": "59alnnYK9GWy",
        "colab": {
          "base_uri": "https://localhost:8080/"
        },
        "outputId": "c52c2e82-4ab4-429b-aa08-f7fb79700564"
      },
      "execution_count": 17,
      "outputs": [
        {
          "output_type": "stream",
          "name": "stdout",
          "text": [
            "0       539.031514\n",
            "1              NaN\n",
            "2        65.998826\n",
            "3         1.056326\n",
            "4         0.005976\n",
            "           ...    \n",
            "1321           NaN\n",
            "1322           NaN\n",
            "1323           NaN\n",
            "1324           NaN\n",
            "1325           NaN\n",
            "Name: Liquidity, Length: 1326, dtype: float64\n"
          ]
        }
      ]
    },
    {
      "cell_type": "code",
      "source": [
        "import pandas as pd\n",
        "from sklearn.ensemble import RandomForestRegressor\n",
        "from sklearn.model_selection import train_test_split\n",
        "from sklearn.preprocessing import StandardScaler\n",
        "\n",
        "# Load the crypto data into a data frame Percetile Changes\n",
        "df = df_clean\n",
        "\n",
        "# Split the data into features and labels\n",
        "X = df[[\"percent_change_1h\", \"percent_change_7d\", \"price_usd\"]]\n",
        "y = df[\"24h_volume_usd\"]\n",
        "\n",
        "X_train, X_test, y_train, y_test = train_test_split( X, y, test_size=0.33, random_state=42)\n",
        "scaler = StandardScaler()\n",
        "X_train = scaler.fit_transform(X_train)\n",
        "X_test = scaler.transform(X_test)"
      ],
      "metadata": {
        "id": "_hcoCp88_BU3"
      },
      "execution_count": 25,
      "outputs": []
    },
    {
      "cell_type": "code",
      "source": [
        "# Train a random forest regressor on the data\n",
        "regr = RandomForestRegressor()\n",
        "regr.fit(X_train, y_train)\n",
        "\n",
        "# Make predictions on the crypto data\n",
        "predictions = regr.predict(X_test)\n",
        "print(predictions)"
      ],
      "metadata": {
        "colab": {
          "base_uri": "https://localhost:8080/"
        },
        "id": "n1Bn6wBQaOwM",
        "outputId": "5a4671a8-23a3-4fb5-bd91-afa73cea7c55"
      },
      "execution_count": 26,
      "outputs": [
        {
          "output_type": "stream",
          "name": "stdout",
          "text": [
            "[2.61460311e+07 2.79072876e+06 5.53919670e+05 6.36475618e+06\n",
            " 2.54118122e+05 9.92232355e+05 5.20888348e+07 3.00094703e+07\n",
            " 4.40571615e+06 3.09780314e+06 2.87555958e+07 4.85514103e+07\n",
            " 7.88831480e+06 2.71967305e+05 8.98370821e+06 1.69085615e+06\n",
            " 2.38207588e+06 3.85472305e+07 3.11063014e+05 4.87382315e+07\n",
            " 2.43328233e+05 6.15742069e+04 1.80471216e+05 1.27117530e+05\n",
            " 6.21392404e+03 4.66383636e+07 1.16463812e+05 1.14920930e+05\n",
            " 1.82909281e+06 4.64720478e+06 2.06422318e+03 1.25370867e+06\n",
            " 2.60285467e+07 3.88295514e+06 9.11487154e+06 5.23271967e+06\n",
            " 1.81745390e+06 7.08227434e+06 2.23568019e+07 3.58472421e+07\n",
            " 1.06526350e+06 4.56453597e+06 9.86184116e+06 1.56195571e+07\n",
            " 9.14755182e+06 1.78299686e+06 8.59368285e+05 7.33852966e+04\n",
            " 8.53906485e+05 4.77537864e+06 2.35948142e+06 2.25538070e+05\n",
            " 7.49961636e+05 1.10358386e+06 6.14823710e+05 1.05689487e+06\n",
            " 4.60438526e+07 1.64074477e+06 1.00091938e+07 4.78667065e+06\n",
            " 2.77981167e+03 5.51939976e+07]\n"
          ]
        }
      ]
    },
    {
      "cell_type": "code",
      "source": [
        "import pandas as pd\n",
        "import numpy as np\n",
        "\n",
        "# Load the asset data into a data frame for Portoflio Management\n",
        "df = pd.read_csv(\"/content/drive/MyDrive/TotalMarketCSV File.csv\")\n",
        "\n",
        "# Calculate the returns of the assets\n",
        "df[\"Return\"] = df[\"Price\"].pct_change()\n",
        "\n",
        "# Print the mean and standard deviation of the returns\n",
        "print(\"Mean return:\", df[\"Return\"].mean())\n",
        "print(\"Standard deviation:\", df[\"Return\"].std())\n",
        "\n",
        "# Calculate the Sharpe ratio of the assets\n",
        "sharpe_ratio = df[\"Return\"].mean() / df[\"Return\"].std()\n",
        "print(\"Sharpe ratio:\", sharpe_ratio)\n",
        "\n",
        "# Calculate the correlations between the assets\n",
        "correlations = df.corr()\n",
        "print(\"Asset correlations:\")\n",
        "print(correlations)\n",
        "\n",
        "# Optimize the portfolio using the Markowitz model\n",
        "returns = df[\"Return\"].values\n",
        "covariance = df[\"Return\"].cov()\n",
        "\n",
        "# Set the target return and the constraints\n",
        "target_return = 0.1\n",
        "constraints = ({\"type\": \"eq\", \"fun\": lambda x: np.sum(x) - 1})\n",
        "\n",
        "# Minimize the portfolio variance\n",
        "portfolio_variance = lambda x: np.dot(x, np.dot(covariance, x))\n",
        "result = minimize(portfolio_variance, num_assets*[1./num_assets,], \n",
        "                  method=\"SLSQP\", bounds=bnds, constraints=constraints)\n",
        "optimal_weights = result[\"x\"]\n",
        "print(\"Optimal weights:\", optimal_weights)\n"
      ],
      "metadata": {
        "id": "aviGPYaYEmpv",
        "colab": {
          "base_uri": "https://localhost:8080/",
          "height": 502
        },
        "outputId": "d44d1244-213c-43f4-9a3c-b479e1ecc36d"
      },
      "execution_count": 19,
      "outputs": [
        {
          "output_type": "error",
          "ename": "KeyError",
          "evalue": "ignored",
          "traceback": [
            "\u001b[0;31m---------------------------------------------------------------------------\u001b[0m",
            "\u001b[0;31mKeyError\u001b[0m                                  Traceback (most recent call last)",
            "\u001b[0;32m/usr/local/lib/python3.8/dist-packages/pandas/core/indexes/base.py\u001b[0m in \u001b[0;36mget_loc\u001b[0;34m(self, key, method, tolerance)\u001b[0m\n\u001b[1;32m   3360\u001b[0m             \u001b[0;32mtry\u001b[0m\u001b[0;34m:\u001b[0m\u001b[0;34m\u001b[0m\u001b[0;34m\u001b[0m\u001b[0m\n\u001b[0;32m-> 3361\u001b[0;31m                 \u001b[0;32mreturn\u001b[0m \u001b[0mself\u001b[0m\u001b[0;34m.\u001b[0m\u001b[0m_engine\u001b[0m\u001b[0;34m.\u001b[0m\u001b[0mget_loc\u001b[0m\u001b[0;34m(\u001b[0m\u001b[0mcasted_key\u001b[0m\u001b[0;34m)\u001b[0m\u001b[0;34m\u001b[0m\u001b[0;34m\u001b[0m\u001b[0m\n\u001b[0m\u001b[1;32m   3362\u001b[0m             \u001b[0;32mexcept\u001b[0m \u001b[0mKeyError\u001b[0m \u001b[0;32mas\u001b[0m \u001b[0merr\u001b[0m\u001b[0;34m:\u001b[0m\u001b[0;34m\u001b[0m\u001b[0;34m\u001b[0m\u001b[0m\n",
            "\u001b[0;32m/usr/local/lib/python3.8/dist-packages/pandas/_libs/index.pyx\u001b[0m in \u001b[0;36mpandas._libs.index.IndexEngine.get_loc\u001b[0;34m()\u001b[0m\n",
            "\u001b[0;32m/usr/local/lib/python3.8/dist-packages/pandas/_libs/index.pyx\u001b[0m in \u001b[0;36mpandas._libs.index.IndexEngine.get_loc\u001b[0;34m()\u001b[0m\n",
            "\u001b[0;32mpandas/_libs/hashtable_class_helper.pxi\u001b[0m in \u001b[0;36mpandas._libs.hashtable.PyObjectHashTable.get_item\u001b[0;34m()\u001b[0m\n",
            "\u001b[0;32mpandas/_libs/hashtable_class_helper.pxi\u001b[0m in \u001b[0;36mpandas._libs.hashtable.PyObjectHashTable.get_item\u001b[0;34m()\u001b[0m\n",
            "\u001b[0;31mKeyError\u001b[0m: 'Price'",
            "\nThe above exception was the direct cause of the following exception:\n",
            "\u001b[0;31mKeyError\u001b[0m                                  Traceback (most recent call last)",
            "\u001b[0;32m<ipython-input-19-2de96ddec2fc>\u001b[0m in \u001b[0;36m<module>\u001b[0;34m\u001b[0m\n\u001b[1;32m      6\u001b[0m \u001b[0;34m\u001b[0m\u001b[0m\n\u001b[1;32m      7\u001b[0m \u001b[0;31m# Calculate the returns of the assets\u001b[0m\u001b[0;34m\u001b[0m\u001b[0;34m\u001b[0m\u001b[0;34m\u001b[0m\u001b[0m\n\u001b[0;32m----> 8\u001b[0;31m \u001b[0mdf\u001b[0m\u001b[0;34m[\u001b[0m\u001b[0;34m\"Return\"\u001b[0m\u001b[0;34m]\u001b[0m \u001b[0;34m=\u001b[0m \u001b[0mdf\u001b[0m\u001b[0;34m[\u001b[0m\u001b[0;34m\"Price\"\u001b[0m\u001b[0;34m]\u001b[0m\u001b[0;34m.\u001b[0m\u001b[0mpct_change\u001b[0m\u001b[0;34m(\u001b[0m\u001b[0;34m)\u001b[0m\u001b[0;34m\u001b[0m\u001b[0;34m\u001b[0m\u001b[0m\n\u001b[0m\u001b[1;32m      9\u001b[0m \u001b[0;34m\u001b[0m\u001b[0m\n\u001b[1;32m     10\u001b[0m \u001b[0;31m# Print the mean and standard deviation of the returns\u001b[0m\u001b[0;34m\u001b[0m\u001b[0;34m\u001b[0m\u001b[0;34m\u001b[0m\u001b[0m\n",
            "\u001b[0;32m/usr/local/lib/python3.8/dist-packages/pandas/core/frame.py\u001b[0m in \u001b[0;36m__getitem__\u001b[0;34m(self, key)\u001b[0m\n\u001b[1;32m   3456\u001b[0m             \u001b[0;32mif\u001b[0m \u001b[0mself\u001b[0m\u001b[0;34m.\u001b[0m\u001b[0mcolumns\u001b[0m\u001b[0;34m.\u001b[0m\u001b[0mnlevels\u001b[0m \u001b[0;34m>\u001b[0m \u001b[0;36m1\u001b[0m\u001b[0;34m:\u001b[0m\u001b[0;34m\u001b[0m\u001b[0;34m\u001b[0m\u001b[0m\n\u001b[1;32m   3457\u001b[0m                 \u001b[0;32mreturn\u001b[0m \u001b[0mself\u001b[0m\u001b[0;34m.\u001b[0m\u001b[0m_getitem_multilevel\u001b[0m\u001b[0;34m(\u001b[0m\u001b[0mkey\u001b[0m\u001b[0;34m)\u001b[0m\u001b[0;34m\u001b[0m\u001b[0;34m\u001b[0m\u001b[0m\n\u001b[0;32m-> 3458\u001b[0;31m             \u001b[0mindexer\u001b[0m \u001b[0;34m=\u001b[0m \u001b[0mself\u001b[0m\u001b[0;34m.\u001b[0m\u001b[0mcolumns\u001b[0m\u001b[0;34m.\u001b[0m\u001b[0mget_loc\u001b[0m\u001b[0;34m(\u001b[0m\u001b[0mkey\u001b[0m\u001b[0;34m)\u001b[0m\u001b[0;34m\u001b[0m\u001b[0;34m\u001b[0m\u001b[0m\n\u001b[0m\u001b[1;32m   3459\u001b[0m             \u001b[0;32mif\u001b[0m \u001b[0mis_integer\u001b[0m\u001b[0;34m(\u001b[0m\u001b[0mindexer\u001b[0m\u001b[0;34m)\u001b[0m\u001b[0;34m:\u001b[0m\u001b[0;34m\u001b[0m\u001b[0;34m\u001b[0m\u001b[0m\n\u001b[1;32m   3460\u001b[0m                 \u001b[0mindexer\u001b[0m \u001b[0;34m=\u001b[0m \u001b[0;34m[\u001b[0m\u001b[0mindexer\u001b[0m\u001b[0;34m]\u001b[0m\u001b[0;34m\u001b[0m\u001b[0;34m\u001b[0m\u001b[0m\n",
            "\u001b[0;32m/usr/local/lib/python3.8/dist-packages/pandas/core/indexes/base.py\u001b[0m in \u001b[0;36mget_loc\u001b[0;34m(self, key, method, tolerance)\u001b[0m\n\u001b[1;32m   3361\u001b[0m                 \u001b[0;32mreturn\u001b[0m \u001b[0mself\u001b[0m\u001b[0;34m.\u001b[0m\u001b[0m_engine\u001b[0m\u001b[0;34m.\u001b[0m\u001b[0mget_loc\u001b[0m\u001b[0;34m(\u001b[0m\u001b[0mcasted_key\u001b[0m\u001b[0;34m)\u001b[0m\u001b[0;34m\u001b[0m\u001b[0;34m\u001b[0m\u001b[0m\n\u001b[1;32m   3362\u001b[0m             \u001b[0;32mexcept\u001b[0m \u001b[0mKeyError\u001b[0m \u001b[0;32mas\u001b[0m \u001b[0merr\u001b[0m\u001b[0;34m:\u001b[0m\u001b[0;34m\u001b[0m\u001b[0;34m\u001b[0m\u001b[0m\n\u001b[0;32m-> 3363\u001b[0;31m                 \u001b[0;32mraise\u001b[0m \u001b[0mKeyError\u001b[0m\u001b[0;34m(\u001b[0m\u001b[0mkey\u001b[0m\u001b[0;34m)\u001b[0m \u001b[0;32mfrom\u001b[0m \u001b[0merr\u001b[0m\u001b[0;34m\u001b[0m\u001b[0;34m\u001b[0m\u001b[0m\n\u001b[0m\u001b[1;32m   3364\u001b[0m \u001b[0;34m\u001b[0m\u001b[0m\n\u001b[1;32m   3365\u001b[0m         \u001b[0;32mif\u001b[0m \u001b[0mis_scalar\u001b[0m\u001b[0;34m(\u001b[0m\u001b[0mkey\u001b[0m\u001b[0;34m)\u001b[0m \u001b[0;32mand\u001b[0m \u001b[0misna\u001b[0m\u001b[0;34m(\u001b[0m\u001b[0mkey\u001b[0m\u001b[0;34m)\u001b[0m \u001b[0;32mand\u001b[0m \u001b[0;32mnot\u001b[0m \u001b[0mself\u001b[0m\u001b[0;34m.\u001b[0m\u001b[0mhasnans\u001b[0m\u001b[0;34m:\u001b[0m\u001b[0;34m\u001b[0m\u001b[0;34m\u001b[0m\u001b[0m\n",
            "\u001b[0;31mKeyError\u001b[0m: 'Price'"
          ]
        }
      ]
    },
    {
      "cell_type": "code",
      "source": [
        "import ccxt\n",
        "\n",
        "# Connect to the exchange for Trades\n",
        "exchange = ccxt.binance()\n",
        "\n",
        "# Set the ticker symbol and the trade amount\n",
        "symbol = \"BTC/USDT\"\n",
        "amount = 0.1\n",
        "\n",
        "# Check the current price of the asset\n",
        "ticker = exchange.fetch_ticker(symbol)\n",
        "print(\"Current price:\", ticker[\"last\"])\n",
        "\n",
        "# Place a buy order\n",
        "order = exchange.create_order(symbol, \"limit\", \"buy\", amount, ticker[\"last\"])\n",
        "print(\"Order placed:\", order)\n",
        "\n",
        "# Check the balance of the asset\n",
        "balance = exchange.fetch_balance()\n",
        "print(\"Asset balance:\", balance[symbol])\n",
        "\n",
        "# Place a sell order\n",
        "order = exchange.create_order(symbol, \"limit\", \"sell\", amount, ticker[\"last\"])\n",
        "print(\"Order placed:\", order)\n",
        "\n",
        "# Check the balance of the asset again\n",
        "balance = exchange.fetch_balance()\n",
        "print(\"Asset balance:\", balance[symbol])\n"
      ],
      "metadata": {
        "id": "YfIuQ724FleE"
      },
      "execution_count": null,
      "outputs": []
    },
    {
      "cell_type": "code",
      "source": [
        "import ccxt\n",
        "\n",
        "# Connect to the exchange for Swing Trade\n",
        "exchange = ccxt.binance()\n",
        "\n",
        "# Set the ticker symbol and the trade amount\n",
        "symbol = \"BTC/USDT\"\n",
        "amount = 0.1\n",
        "\n",
        "# Set the stop loss and take profit levels\n",
        "stop_loss = 0.95\n",
        "take_profit = 1.05\n",
        "\n",
        "# Fetch the current price of the asset\n",
        "price = exchange.fetch_ticker(symbol)[\"last\"]\n",
        "\n",
        "# Place a buy order with a stop loss\n",
        "order = exchange.create_order(symbol, \"market\", \"buy\", amount, {\n",
        "    \"stop_loss_price\": price * stop_loss\n",
        "})\n",
        "print(\"Order placed:\", order)\n",
        "\n",
        "# Set a flag to track whether the trade is open\n",
        "is_open = True\n",
        "\n",
        "while is_open:\n",
        "    # Fetch the current price of the asset\n",
        "    price = exchange.fetch_ticker(symbol)[\"last\"]\n",
        "\n",
        "    # Check if the trade has hit the stop loss or take profit\n",
        "    if price < stop_loss:\n",
        "        # Sell the asset and close the trade\n",
        "        exchange.create_order(symbol, \"market\", \"sell\", amount)\n",
        "        is_open = False\n",
        "    elif price > take_profit:\n",
        "        # Sell the asset and close the trade\n",
        "        exchange.create_order(symbol, \"market\", \"sell\", amount)\n",
        "        is_open = False\n",
        "\n",
        "print(\"Trade closed\")\n"
      ],
      "metadata": {
        "id": "Y4AT4TVpHHvy"
      },
      "execution_count": null,
      "outputs": []
    },
    {
      "cell_type": "code",
      "source": [
        "import ccxt\n",
        "\n",
        "# Connect to the exchange for Derivatives trade\n",
        "exchange = ccxt.bitmex()\n",
        "\n",
        "# Set the ticker symbol and the trade size\n",
        "symbol = \"BTC/USD\"\n",
        "size = 1\n",
        "\n",
        "# Place a long futures contract order\n",
        "order = exchange.create_order(symbol, \"futures\", \"buy\", size)\n",
        "print(\"Order placed:\", order)\n",
        "\n",
        "# Check the position of the asset\n",
        "position = exchange.private_get_position({\"symbol\": symbol})\n",
        "print(\"Position:\", position)\n",
        "\n",
        "# Place a short futures contract order\n",
        "order = exchange.create_order(symbol, \"futures\", \"sell\", size)\n",
        "print(\"Order placed:\", order)\n",
        "\n",
        "# Check the position of the asset again\n",
        "position = exchange.private_get_position({\"symbol\": symbol})\n",
        "print(\"Position:\", position)\n"
      ],
      "metadata": {
        "id": "Yy2Q1jTiHjdG"
      },
      "execution_count": null,
      "outputs": []
    },
    {
      "cell_type": "code",
      "source": [
        "import ccxt\n",
        "\n",
        "# Connect to the exchange for Options Trade\n",
        "exchange = ccxt.deribit()\n",
        "\n",
        "# Set the ticker symbol and the trade size\n",
        "symbol = \"BTC/USD\"\n",
        "size = 1\n",
        "\n",
        "# Set the expiration date and strike price of the option\n",
        "expiration_timestamp = 1609459200\n",
        "strike_price = 100000\n",
        "\n",
        "# Place a call option order\n",
        "order = exchange.create_order(symbol, \"option\", \"buy\", size, {\n",
        "    \"type\": \"call\",\n",
        "    \"expiration_timestamp\": expiration_timestamp,\n",
        "    \"strike_price\": strike_price\n",
        "})\n",
        "print(\"Order placed:\", order)\n",
        "\n",
        "# Place a put option order\n",
        "order = exchange.create_order(symbol, \"option\", \"buy\", size, {\n",
        "    \"type\": \"put\",\n",
        "    \"expiration_timestamp\": expiration_timestamp,\n",
        "    \"strike_price\": strike_price\n",
        "})\n",
        "print(\"Order placed:\", order)\n"
      ],
      "metadata": {
        "id": "0XWzbuCQIuIq"
      },
      "execution_count": null,
      "outputs": []
    },
    {
      "cell_type": "code",
      "source": [
        "import ccxt\n",
        "\n",
        "# Connect to the exchange for Futures Trade\n",
        "exchange = ccxt.bitmex()\n",
        "\n",
        "# Set the ticker symbol and the trade size\n",
        "symbol = \"BTC/USD\"\n",
        "size = 1\n",
        "\n",
        "# Place a long futures contract order\n",
        "order = exchange.create_order(symbol, \"futures\", \"buy\", size)\n",
        "print(\"Order placed:\", order)\n",
        "\n",
        "# Check the position of the asset\n",
        "position = exchange.private_get_position({\"symbol\": symbol})\n",
        "print(\"Position:\", position)\n",
        "\n",
        "# Place a short futures contract order\n",
        "order = exchange.create_order(symbol, \"futures\", \"sell\", size)\n",
        "print(\"Order placed:\", order)\n",
        "\n",
        "# Check the position of the asset again\n",
        "position = exchange.private_get_position({\"symbol\": symbol})\n",
        "print(\"Position:\", position)\n"
      ],
      "metadata": {
        "id": "ji5IeM0qIwub"
      },
      "execution_count": null,
      "outputs": []
    },
    {
      "cell_type": "code",
      "source": [
        "import ccxt\n",
        "\n",
        "# Connect to the exchanges for Arbitrage Trades\n",
        "exchange1 = ccxt.binance()\n",
        "exchange2 = ccxt.bitfinex()\n",
        "\n",
        "# Set the ticker symbol\n",
        "symbol = \"BTC/USDT\"\n",
        "\n",
        "# Fetch the current prices of the asset on the two exchanges\n",
        "price1 = exchange1.fetch_ticker(symbol)[\"last\"]\n",
        "price2 = exchange2.fetch_ticker(symbol)[\"last\"]\n",
        "\n",
        "# Calculate the price difference\n",
        "difference = price1 - price2\n",
        "\n",
        "# Set the trade amount\n",
        "amount = 0.1\n",
        "\n",
        "if difference > 0:\n",
        "    # Buy on exchange 1 and sell on exchange 2\n",
        "    order1 = exchange1.create_order(symbol, \"market\", \"buy\", amount)\n",
        "    order2 = exchange2.create_order(symbol, \"market\", \"sell\", amount)\n",
        "    print(\"Orders placed:\", order1, order2)\n",
        "elif difference < 0:\n",
        "    # Sell on exchange 1 and buy on exchange 2\n",
        "    order1 = exchange1.create_order(symbol, \"market\", \"sell\", amount)\n",
        "    order2 = exchange2.create_order(symbol, \"market\", \"buy\", amount)\n",
        "    print(\"Orders placed:\", order1, order2)\n",
        "else:\n",
        "    print(\"No arbitrage opportunity\")\n"
      ],
      "metadata": {
        "id": "7Ice30tvJU0u"
      },
      "execution_count": null,
      "outputs": []
    },
    {
      "cell_type": "code",
      "source": [
        "import ccxt\n",
        "\n",
        "# Connect to the exchange for Perpetual Futures \n",
        "exchange = ccxt.bitmex()\n",
        "\n",
        "# Set the ticker symbol and the trade size\n",
        "symbol = \"BTC/USD\"\n",
        "size = 1\n",
        "\n",
        "# Place a long perpetual futures contract order\n",
        "order = exchange.create_order(symbol, \"perpetual\", \"buy\", size)\n",
        "print(\"Order placed:\", order)\n",
        "\n",
        "# Check the position of the asset\n",
        "position = exchange.private_get_position({\"symbol\": symbol})\n",
        "print(\"Position:\", position)\n",
        "\n",
        "# Place a short perpetual futures contract order\n",
        "order = exchange.create_order(symbol, \"perpetual\", \"sell\", size)\n",
        "print(\"Order placed:\", order)\n",
        "\n",
        "# Check the position of the asset again\n",
        "position = exchange.private_get_position({\"symbol\": symbol})\n",
        "print(\"Position:\", position)\n"
      ],
      "metadata": {
        "id": "Rbp0PAxWJ0V7"
      },
      "execution_count": null,
      "outputs": []
    },
    {
      "cell_type": "code",
      "source": [
        "import ccxt\n",
        "\n",
        "# Connect to the exchange for Commodities Trades\n",
        "exchange = ccxt.okcoin()\n",
        "\n",
        "# Set the ticker symbol and the trade size\n",
        "symbol = \"XAU/USD\"\n",
        "size = 1\n",
        "\n",
        "# Place a long trade\n",
        "order = exchange.create_order(symbol, \"spot\", \"buy\", size)\n",
        "print(\"Order placed:\", order)\n",
        "\n",
        "# Check the balance of the asset\n",
        "balance = exchange.fetch_balance()\n",
        "print(\"Asset balance:\", balance[symbol])\n",
        "\n",
        "# Place a short trade\n",
        "order = exchange.create_order(symbol, \"spot\", \"sell\", size)\n",
        "print(\"Order placed:\", order)\n",
        "\n",
        "# Check the balance of the asset again\n",
        "balance = exchange.fetch_balance()\n",
        "print(\"Asset balance:\", balance[symbol])\n"
      ],
      "metadata": {
        "id": "WhiV6rmmL39d"
      },
      "execution_count": null,
      "outputs": []
    },
    {
      "cell_type": "code",
      "source": [
        "import requests\n",
        "\n",
        "# Make a GET request to the specified URL for Application Programming Interfaces.\n",
        "response = requests.get(\"https://www.example.com/\")\n",
        "\n",
        "# Print the status code and the content of the response\n",
        "print(\"Status code:\", response.status_code)\n",
        "print(\"Content:\", response.text)\n"
      ],
      "metadata": {
        "id": "HeFbwn67L7Rr"
      },
      "execution_count": null,
      "outputs": []
    },
    {
      "cell_type": "code",
      "source": [
        "import bitcoin\n",
        "\n",
        "# Generate a new private key and corresponding public key Bitcoin Wallets\n",
        "private_key = bitcoin.random_key()\n",
        "public_key = bitcoin.privtopub(private_key)\n",
        "\n",
        "# Generate a new Bitcoin address\n",
        "address = bitcoin.pubtoaddr(public_key)\n",
        "\n",
        "print(\"Private key:\", private_key)\n",
        "print(\"Public key:\", public_key)\n",
        "print(\"Address:\", address)\n"
      ],
      "metadata": {
        "id": "9UV8k0veMR5-"
      },
      "execution_count": null,
      "outputs": []
    },
    {
      "cell_type": "code",
      "source": [
        "import web3\n",
        "\n",
        "# Connect to the Ethereum node for Web3 Wallets\n",
        "web3 = web3.Web3(web3.Web3.HTTPProvider(\"http://localhost:8545\"))\n",
        "\n",
        "# Check the current block number\n",
        "block_number = web3.eth.blockNumber\n",
        "print(\"Block number:\", block_number)\n",
        "\n",
        "# Generate a new private key and corresponding public key\n",
        "private_key = web3.eth.account.create().privateKey.hex()\n",
        "public_key = web3.eth.account.privateKeyToAccount(private_key).address\n",
        "\n",
        "print(\"Private key:\", private_key)\n",
        "print(\"Public key:\", public_key)\n"
      ],
      "metadata": {
        "id": "r8t8YVChMuTW"
      },
      "execution_count": null,
      "outputs": []
    },
    {
      "cell_type": "code",
      "source": [
        "import requests\n",
        "import json\n",
        "\n",
        "# Set the API endpoint and the access token VISA WALLET CODE\n",
        "api_endpoint = \"https://sandbox.api.visa.com/vctc/customerrules/v1/consumertransactioncontrols\"\n",
        "access_token = \"your_access_token\"\n",
        "\n",
        "# Set the request headers\n",
        "headers = {\n",
        "    \"Authorization\": f\"Bearer {access_token}\",\n",
        "    \"Content-Type\": \"application/json\"\n",
        "}\n",
        "\n",
        "# Set the request body\n",
        "body = {\n",
        "    \"primaryAccountNumber\": \"4111111111111111\",\n",
        "    \"transactionAmount\": \"100.00\",\n",
        "    \"transactionCurrencyCode\": \"USD\",\n",
        "    \"merchantCategoryCode\": \"6012\"\n",
        "}\n",
        "\n",
        "# Make a POST request to the API endpoint\n",
        "response = requests.post(api_endpoint, headers=headers, data=json.dumps(body))\n",
        "\n",
        "# Print the status code and the response body\n",
        "print(\"Status code:\", response.status_code)\n",
        "print(\"Response:\", response.text)\n"
      ],
      "metadata": {
        "id": "9oWg9mM-M7gH"
      },
      "execution_count": null,
      "outputs": []
    },
    {
      "cell_type": "code",
      "source": [
        "import requests\n",
        "import json\n",
        "\n",
        "# Set the API endpoint and the access token MASTERCARD WALLET CODE\n",
        "api_endpoint = \"https://sandbox.api.mastercard.com/wallet-services-web/walletapi/v1/issuer/issuers/{issuerId}/wallet/wallets\"\n",
        "access_token = \"your_access_token\"\n",
        "\n",
        "# Set the request headers\n",
        "headers = {\n",
        "    \"Authorization\": f\"Bearer {access_token}\",\n",
        "    \"Content-Type\": \"application/json\"\n",
        "}\n",
        "\n",
        "# Set the request body\n",
        "body = {\n",
        "    \"name\": \"My Wallet\",\n",
        "    \"description\": \"My digital wallet for Mastercard cards\"\n",
        "}\n",
        "\n",
        "# Make a POST request to the API endpoint\n",
        "response = requests.post(api_endpoint, headers=headers, data=json.dumps(body))\n",
        "\n",
        "# Print the status code and the response body\n",
        "print(\"Status code:\", response.status_code)\n",
        "print(\"Response:\", response.text)\n"
      ],
      "metadata": {
        "id": "oygLzyBvNUPn"
      },
      "execution_count": null,
      "outputs": []
    },
    {
      "cell_type": "code",
      "source": [
        "import stripe\n",
        "\n",
        "# Set the API key Payment Protections for Payment Processing\n",
        "stripe.api_key = \"sk_test_your_api_key\"\n",
        "\n",
        "# Set the payment details\n",
        "amount = 1000\n",
        "currency = \"USD\"\n",
        "description = \"My payment\"\n",
        "\n",
        "# Create a payment intent\n",
        "intent = stripe.PaymentIntent.create(\n",
        "    amount=amount,\n",
        "    currency=currency,\n",
        "    description=description,\n",
        "    payment_method_types=[\"card\"],\n",
        "    confirm=True\n",
        ")\n",
        "\n",
        "# Print the payment intent\n",
        "print(\"Payment intent:\", intent)\n"
      ],
      "metadata": {
        "id": "hbuzsz7_N2w5"
      },
      "execution_count": null,
      "outputs": []
    },
    {
      "cell_type": "code",
      "source": [
        "import gaios\n",
        "\n",
        "# Set the payment details \n",
        "recipient = \"3J98t1WpEZ73CNmQviecrnyiWrnqRhWNLy\"\n",
        "amount = 0.001\n",
        "\n",
        "# Get the current transaction fee rate\n",
        "fee_rate = gaios.getnetworkfee(2)\n",
        "print(\"Transaction fee rate:\", fee_rate)\n",
        "\n",
        "# Create the transaction\n",
        "tx = gaios.mktx(\n",
        "    [],\n",
        "    [(recipient, amount)],\n",
        "    version=1\n",
        ")\n",
        "\n",
        "# Sign the transaction\n",
        "tx = gaios.sign(tx, 0, \"your_private_key\")\n",
        "\n",
        "# Send the transaction\n",
        "txid = gaios.send(tx)\n",
        "print(\"Transaction ID:\", txid)\n"
      ],
      "metadata": {
        "id": "fJe7gtqzOPO4"
      },
      "execution_count": null,
      "outputs": []
    },
    {
      "cell_type": "code",
      "source": [
        "import web3\n",
        "\n",
        "# Connect to the Ethereum node for YIELD FARM CODE\n",
        "web3 = web3.Web3(web3.Web3.HTTPProvider(\"http://localhost:8545\"))\n",
        "\n",
        "# Set the address of the yield farm contract\n",
        "contract_address = \"0xyour_contract_address\"\n",
        "\n",
        "# Get the contract abi\n",
        "contract_abi = [{...}]\n",
        "\n",
        "# Load the contract\n",
        "contract = web3.eth.contract(address=contract_address, abi=contract_abi)\n",
        "\n",
        "# Set the parameters for the deposit function\n",
        "deposit_amount = 1\n",
        "deposit_token = \"0xyour_token_address\"\n",
        "\n",
        "# Deposit the token into the yield farm\n",
        "tx_hash = contract.functions.deposit(deposit_amount, deposit_token).transact()\n",
        "\n",
        "# Wait for the transaction to be mined\n",
        "tx_receipt = web3.eth.waitForTransactionReceipt(tx_hash)\n",
        "\n",
        "# Check the status of the transaction\n",
        "if tx_receipt[\"status\"] == 1:\n",
        "    print(\"Transaction successful\")\n",
        "else:\n",
        "    print(\"Transaction failed\")\n"
      ],
      "metadata": {
        "id": "gu1jNhFtOwWl"
      },
      "execution_count": null,
      "outputs": []
    },
    {
      "cell_type": "code",
      "source": [
        "import stripe\n",
        "\n",
        "# Set the API key MONEY TRANSFER CODE\n",
        "stripe.api_key = \"sk_test_your_api_key\"\n",
        "\n",
        "# Set the payment details\n",
        "amount = 100\n",
        "currency = \"USD\"\n",
        "description = \"My payment\"\n",
        "source = \"tok_visa\"\n",
        "\n",
        "# Create a charge\n",
        "charge = stripe.Charge.create(\n",
        "    amount=amount,\n",
        "    currency=currency,\n",
        "    description=description,\n",
        "    source=source\n",
        ")\n",
        "\n",
        "# Print the charge\n",
        "print(\"Charge:\", charge)\n"
      ],
      "metadata": {
        "id": "RN3u4IltQZNI"
      },
      "execution_count": null,
      "outputs": []
    },
    {
      "cell_type": "code",
      "source": [
        "import plaid\n",
        "\n",
        "# Set the API key and environment Direct Deposit\n",
        "client = plaid.Client(client_id=\"your_client_id\", secret=\"your_secret\", environment=\"sandbox\")\n",
        "\n",
        "# Set the access token\n",
        "access_token = \"your_access_token\"\n",
        "\n",
        "# Set the bank account details\n",
        "bank_id = \"your_bank_id\"\n",
        "account_id = \"your_account_id\"\n",
        "\n",
        "# Create a deposit\n",
        "deposit = client.Deposit.create(access_token, bank_id, account_id, {\n",
        "  \"amount\": 500,\n",
        "  \"name\": \"Deposit\"\n",
        "})\n",
        "\n",
        "# Print the deposit\n",
        "print(\"Deposit:\", deposit)\n"
      ],
      "metadata": {
        "id": "VAc6Jvu4RDfW"
      },
      "execution_count": null,
      "outputs": []
    },
    {
      "cell_type": "code",
      "source": [
        "#The Matrix Key rate system is for random allocation of capital distrubution of capital. "
      ],
      "metadata": {
        "id": "Z10zsY6GpczM"
      },
      "execution_count": null,
      "outputs": []
    },
    {
      "cell_type": "code",
      "source": [
        "import math\n",
        "import pandas as pd\n",
        "import numpy as np\n",
        "\n",
        "\n",
        "nc1 = np.matrix([[5,5,1], [5,8,7], [4,4,2]])\n",
        "nc2 = np.matrix([[8,8,8], [7,3,4], [4,2,7]])\n",
        "nc3 = np.matrix([[9,9,3], [6,9,6], [5,9,3]])\n",
        "nc4 = np.matrix([[10,10,10], [2,7,10], [6,6,6]])\n",
        "\n",
        "rate1low = nc1*0.00005\n",
        "rate2low = nc2*0.00005\n",
        "rate3low = nc3*0.00005\n",
        "\n",
        "lowrate = [rate1low, rate2low, rate3low]\n",
        "for x in lowrate:\n",
        "  print(f'These are the lowest Matrix Hash Rates in Gaios: {x}')\n",
        "\n",
        "gc1 = np.matrix([[9,24,20,], [16,12,12], [19,12,28], [8,25,29]])\n",
        "gc2 = np.matrix([[24,24,12], [23,7,2], [3,9,2], [2,3,7]])\n",
        "gc3 = np.matrix([[2,3,5], [4,10,2], [6,2,7], [4,9,6]])\n",
        "gc4 = np.matrix([[9,5,8], [10,2,7], [8,2,7], [8,10,9]])\n",
        "\n",
        "medium1 = gc1*0.0005\n",
        "medium2 = gc2*0.0005\n",
        "medium3 = gc3*0.0005\n",
        "\n",
        "mediumrate = [medium1, medium2, medium3]\n",
        "for x in mediumrate:\n",
        "  print(f'These are the medium Matrix Hash Rates in Gaios: {x}')\n",
        "\n",
        "bc1 = np.matrix([[8,9,2], [5,5,6], [7,8,5], [4,5,3]])\n",
        "bc2 = np.matrix([[7,9,6], [4,6,2], [7,8,6], [2,6,9]])\n",
        "bc3 = np.matrix ([[5,9,8], [7,6,4], [9,1,3], [7,2,7]])\n",
        "bc4 = np.matrix([[5,9,8], [5,9,4], [9,5,10], [2,11,11],[5,5,5]])\n",
        "\n",
        "highest1 = bc1*0.005\n",
        "highest2 = bc2*0.005\n",
        "highest3 = bc3*0.005\n",
        "\n",
        "highestrates = [highest1, highest2, highest3]\n",
        "for x in highestrates:\n",
        "  print(f'These are the highest Matrix Hash Rates in Gaios: {x}')\n",
        "\n",
        "MasterKey = np.matrix([[7,5,6], [4,3,7], [5,2,6], [9,2,10],\n",
        "                  [7,4,8],[6,4,3]])\n",
        "for x in MasterKey:\n",
        "  print(MasterKey)\n"
      ],
      "metadata": {
        "id": "RKMCb7sVQ6iV"
      },
      "execution_count": null,
      "outputs": []
    },
    {
      "cell_type": "code",
      "source": [
        "import ccxt\n",
        "import time\n",
        "\n",
        "# Initialize the exchanges you want to use\n",
        "exchange1 = ccxt.binance()\n",
        "exchange2 = ccxt.kucoin()\n",
        "\n",
        "while True:\n",
        "    # Fetch the current prices of Bitcoin on both exchanges\n",
        "    price1 = exchange1.fetch_ticker('BTC/USDT')['last']\n",
        "    price2 = exchange2.fetch_ticker('BTC/USDT')['last']\n",
        "\n",
        "    # Check if there is an opportunity for arbitrage\n",
        "    if price1 > price2:\n",
        "        # Calculate the difference in price and the amount of Bitcoin to buy\n",
        "        diff = price1 - price2\n",
        "        amount = 100 / price2\n",
        "\n",
        "        # Place a buy order on exchange 2\n",
        "        exchange2.create_market_buy_order('BTC/USDT', amount)\n",
        "\n",
        "        # Place a sell order on exchange 1\n",
        "        exchange1.create_market_sell_order('BTC/USDT', amount)\n",
        "\n",
        "        # Log the trade\n",
        "        print(f'Bought {amount} BTC on exchange 2 at {price2} and sold on exchange 1 at {price1} for a profit of {diff}')\n",
        "    else:\n",
        "        print(f'No opportunity found. Price on exchange 1 is {price1} and price on exchange 2 is {price2}')\n",
        "\n",
        "    # Sleep for a minute before checking again\n",
        "    time.sleep(60)\n"
      ],
      "metadata": {
        "id": "Wibu_v2mRN_5"
      },
      "execution_count": null,
      "outputs": []
    },
    {
      "cell_type": "code",
      "source": [
        "import math\n",
        "def micro_arbitrage(integral, Derivative, Price, Asset, Time):\n",
        "  return (integral)[Derivative Contract*Market Price] + [Asset Valuation*log(Time)]"
      ],
      "metadata": {
        "id": "2zRYlH7LKQgO"
      },
      "execution_count": null,
      "outputs": []
    },
    {
      "cell_type": "code",
      "source": [
        "import web3\n",
        "\n",
        "# Connect to the Ethereum node for Zero Knowledge Proof Smart Contract\n",
        "web3 = web3.Web3(web3.Web3.HTTPProvider(\"http://localhost:8545\"))\n",
        "\n",
        "# Set the contract source code\n",
        "contract_source_code = \n",
        "pragma solidity ^0.5.0;\n",
        "\n",
        "contract ZeroKnowledgeProof {\n",
        "    function prove(bytes calldata input) public pure returns (bool) {\n",
        "        // Implement the zero knowledge proof logic here\n",
        "        return true;\n",
        "    }\n",
        "}\n",
        "\n",
        "\n",
        "# Compile the contract\n",
        "compiled_contract = web3.eth.compile.solidity(contract_source_code)\n",
        "\n",
        "# Get the contract interface\n",
        "contract_interface = compiled_contract['<stdin>:ZeroKnowledgeProof']\n",
        "\n",
        "# Deploy the contract\n",
        "contract = web3.eth.contract(abi=contract_interface['abi'], bytecode=contract_interface['bin'])\n",
        "tx_hash = contract.deploy\n",
        "\n",
        "# Get the contract address\n",
        "contract_address = tx_receipt['contractAddress']\n",
        "\n",
        "# Load the contract\n",
        "zero_knowledge_proof = web3.eth.contract(address=contract_address, abi=contract_interface['abi'])\n"
      ],
      "metadata": {
        "id": "fhaUecARRab3"
      },
      "execution_count": null,
      "outputs": []
    },
    {
      "cell_type": "code",
      "source": [
        "import stellar_sdk\n",
        "\n",
        "# Set the horizon server for Federated Byzantine Agreement\n",
        "server = stellar_sdk.Server(\"https://horizon-testnet.stellar.org\")\n",
        "\n",
        "# Set the account details\n",
        "public_key = \"your_public_key\"\n",
        "secret_key = \"your_secret_key\"\n",
        "\n",
        "# Load the account\n",
        "account = stellar_sdk.Account(public_key, secret=secret_key)\n",
        "\n",
        "# Set the transaction details\n",
        "amount = \"100\"\n",
        "asset = stellar_sdk.Asset.native()\n",
        "recipient = \"your_recipient_address\"\n",
        "\n",
        "# Create the transaction\n",
        "transaction = (\n",
        "    stellar_sdk.TransactionBuilder(\n",
        "        source_account=account,\n",
        "        network_passphrase=\"Test SDF Network ; September 2015\",\n",
        "    )\n",
        "    .append_payment_op(recipient, amount, asset)\n",
        "    .build()\n",
        ")\n",
        "\n",
        "# Sign the transaction\n",
        "transaction.sign(secret_key)\n",
        "\n",
        "# Submit the transaction\n",
        "response = server.submit_transaction(transaction)\n",
        "\n",
        "#\n"
      ],
      "metadata": {
        "id": "KOu147qBR_72"
      },
      "execution_count": null,
      "outputs": []
    },
    {
      "cell_type": "code",
      "source": [
        "import fabric\n",
        "\n",
        "# Set the network configuration for Proof of Reputable Observation\n",
        "network_config = fabric.Network.get_test_network()\n",
        "\n",
        "# Set the reputation threshold\n",
        "reputation_threshold = 50\n",
        "\n",
        "# Set the consensus plugin\n",
        "consensus_plugin = fabric.Consensus.ProReO(reputation_threshold)\n",
        "\n",
        "# Create the network\n",
        "network = fabric.Network.create(\n",
        "    network_config=network_config,\n",
        "    consensus_plugin=consensus_plugin\n",
        ")\n",
        "\n",
        "# Start the network\n",
        "network.start()\n",
        "\n",
        "# Stop the network\n",
        "network.stop()\n"
      ],
      "metadata": {
        "id": "vF-CvesFS9fu"
      },
      "execution_count": null,
      "outputs": []
    },
    {
      "cell_type": "code",
      "source": [
        "import web3\n",
        "\n",
        "# Connect to the Ethereum node Proof of Stake Smart Contract\n",
        "web3 = web3.Web3(web3.Web3.HTTPProvider(\"http://localhost:8545\"))\n",
        "\n",
        "# Set the contract source code\n",
        "contract_source_code =\n",
        "pragma solidity ^0.5.0;\n",
        "\n",
        "contract ProofOfStake {\n",
        "    mapping (address => uint) public stakes;\n",
        "    uint public totalStake;\n",
        "\n",
        "    function stake(uint _value) public {\n",
        "        require(_value > 0);\n",
        "        stakes[msg.sender] += _value;\n",
        "        totalStake += _value;\n",
        "    }\n",
        "\n",
        "    function unstake(uint _value) public {\n",
        "        require(_value > 0 && _value <= stakes[msg.sender]);\n",
        "        stakes[msg.sender] -= _value;\n",
        "        totalStake -= _value;\n",
        "    }\n",
        "\n",
        "    function selectValidator() public view returns (address) {\n",
        "        uint random = uint(keccak256(abi.encodePacked(now, msg.sender))) % totalStake;\n",
        "        uint sum = 0;\n",
        "        address selected;\n",
        "        for (address validator in stakes) {\n",
        "            sum += stakes[validator];\n",
        "            if (sum > random) {\n",
        "                selected = validator;\n",
        "                break;\n",
        "            }\n",
        "        }\n",
        "        return selected;\n",
        "    }\n",
        "}\n",
        "\n",
        "\n",
        "# Compile the contract\n",
        "compiled_contract = web3.eth.compile.solidity(contract_source_code)\n",
        "\n",
        "# Get the contract interface\n"
      ],
      "metadata": {
        "id": "91-dG-vqTw61"
      },
      "execution_count": null,
      "outputs": []
    },
    {
      "cell_type": "code",
      "source": [
        "import ccxt\n",
        "\n",
        "# Set the exchange and the bank account details for Crypto Deposits\n",
        "exchange_id = \"binance\"\n",
        "exchange_class = getattr(ccxt, exchange_id)\n",
        "exchange = exchange_class({\n",
        "    \"apiKey\": \"your_api_key\",\n",
        "    \"secret\": \"your_secret_key\",\n",
        "    \"options\": {\"defaultType\": \"spot\"}\n",
        "})\n",
        "bank_account_id = \"your_bank_account_id\"\n",
        "\n",
        "# Load the balance\n",
        "balance = exchange.fetch_balance()\n",
        "\n",
        "# Select the cryptocurrency to deposit\n",
        "currency = \"BTC\"\n",
        "amount = balance[currency][\"total\"]\n",
        "\n",
        "# Deposit the cryptocurrency\n",
        "response = exchange.withdraw(currency, amount, bank_account_id)\n",
        "print(response)\n"
      ],
      "metadata": {
        "id": "TIVVfJFB_vhE"
      },
      "execution_count": null,
      "outputs": []
    },
    {
      "cell_type": "code",
      "source": [
        "import web3\n",
        "\n",
        "# Connect to the Ethereum node for Personal DAO\n",
        "web3 = web3.Web3(web3.Web3.HTTPProvider(\"http://localhost:8545\"))\n",
        "\n",
        "# Set the contract source code\n",
        "contract_source_code = \n",
        "pragma solidity ^0.5.0;\n",
        "\n",
        "contract DecentralizedAutonomousOrganization {\n",
        "    address public owner;\n",
        "    mapping (address => bool) public members;\n",
        "    uint public memberCount;\n",
        "    uint public minimumQuorum;\n",
        "\n",
        "    constructor() public {\n",
        "        owner = msg.sender;\n",
        "        members[msg.sender] = true;\n",
        "        memberCount = 1;\n",
        "        minimumQuorum = 1;\n",
        "    }\n",
        "\n",
        "    function addMember(address _member) public {\n",
        "        require(msg.sender == owner);\n",
        "        require(!members[_member]);\n",
        "        members[_member] = true;\n",
        "        memberCount++;\n",
        "    }\n",
        "\n",
        "    function removeMember(address _member) public {\n",
        "        require(msg.sender == owner);\n",
        "        require(members[_member]);\n",
        "        members[_member] = false;\n",
        "        memberCount--;\n",
        "    }\n",
        "\n",
        "    function changeMinimumQuorum(uint _minimumQuorum) public {\n",
        "        require(msg.sender == owner);\n",
        "        minimumQuorum = _minimumQuorum;\n",
        "    }\n",
        "\n",
        "    function vote(bool _vote) public {\n",
        "        require(members[msg.sender]);\n",
        "        emit VoteCast(_vote);\n",
        "    }\n",
        "\n",
        "    function execute(bytes memory _data) public {\n",
        "        uint votesFor = 0;\n",
        "        uint votesAgainst = 0;\n",
        "        for (address member in members) {\n",
        "            if (members[member]) {\n",
        "                if (member.call.value(0)(_data)) {\n",
        "                    votesFor++;\n",
        "                } else {\n",
        "                    votesAgainst++;\n",
        "                }\n",
        "            }\n",
        "        }\n",
        "        if (votesFor >= minimumQuorum) {\n",
        "            emit ExecutionSucceeded();\n",
        "        } else {\n",
        "            emit ExecutionFailed();\n",
        "        }\n",
        "    }\n",
        "\n",
        "    event VoteCast(bool _vote);\n",
        "    event ExecutionSucceeded();\n",
        "    event ExecutionFailed();\n",
        "}\n",
        "\n",
        "\n",
        "# Compile the contract\n",
        "compiled_contract = web3.eth.compile.solidity(contract_source_code)\n",
        "\n",
        "# Get the contract interface\n",
        "contract_interface = compiled_contract[\"<stdin>:DecentralizedAutonomousOrganization\"]\n",
        "\n",
        "# Deploy the contract\n",
        "contract = web3.eth.contract(abi=contract_interface[\"abi\"], bytecode=contract_interface[\"bin\"])\n",
        "tx_hash = contract.deploy(transaction={\"from\": web3.eth.coinbase})\n",
        "\n",
        "# Get the contract address\n",
        "contract_\n"
      ],
      "metadata": {
        "id": "58xicNQCXwZm"
      },
      "execution_count": null,
      "outputs": []
    },
    {
      "cell_type": "code",
      "source": [
        "import web3\n",
        "\n",
        "# Connect to the Ethereum node Personal Treasury\n",
        "web3 = web3.Web3(web3.Web3.HTTPProvider(\"http://localhost:8545\"))\n",
        "\n",
        "# Set the contract source code\n",
        "contract_source_code = \n",
        "pragma solidity ^0.5.0;\n",
        "\n",
        "contract DecentralizedTreasury {\n",
        "    address public owner;\n",
        "    address public recipient;\n",
        "    uint public totalFunds;\n",
        "    uint public fundsAvailable;\n",
        "    mapping (bytes32 => bool) public requests;\n",
        "    uint public requestCount;\n",
        "    uint public minimumQuorum;\n",
        "\n",
        "    constructor(address _recipient, uint _totalFunds, uint _minimumQuorum) public {\n",
        "        owner = msg.sender;\n",
        "        recipient = _recipient;\n",
        "        totalFunds = _totalFunds;\n",
        "        fundsAvailable = _totalFunds;\n",
        "        minimumQuorum = _minimumQuorum;\n",
        "    }\n",
        "\n",
        "    function requestFunds(bytes32 _requestId, uint _amount) public {\n",
        "        require(_amount > 0 && _amount <= fundsAvailable);\n",
        "        require(!requests[_requestId]);\n",
        "        requests[_requestId] = true;\n",
        "        requestCount++;\n",
        "    }\n",
        "\n",
        "    function vote(bytes32 _\n"
      ],
      "metadata": {
        "id": "hkp01Zg0YZYS"
      },
      "execution_count": null,
      "outputs": []
    },
    {
      "cell_type": "code",
      "source": [
        "import web3\n",
        "\n",
        "# Connect to the Ethereum node for Personal Custody\n",
        "web3 = web3.Web3(web3.Web3.HTTPProvider(\"http://localhost:8545\"))\n",
        "\n",
        "# Set the contract source code\n",
        "contract_source_code = \n",
        "pragma solidity ^0.5.0;\n",
        "\n",
        "contract DecentralizedCustody {\n",
        "    address public owner;\n",
        "    mapping (address => bool) public authorized;\n",
        "    mapping (address => uint) public balances;\n",
        "    uint public totalSupply;\n",
        "\n",
        "    constructor(uint _totalSupply) public {\n",
        "        owner = msg.sender;\n",
        "        authorized[msg.sender] = true;\n",
        "        totalSupply = _totalSupply;\n",
        "        balances[msg.sender] = _totalSupply;\n",
        "    }\n",
        "\n",
        "    function authorize(address _spender) public {\n",
        "        require(msg.sender == owner);\n",
        "        authorized[_spender] = true;\n",
        "    }\n",
        "\n",
        "    function revoke(address _spender) public {\n",
        "        require(msg.sender == owner);\n",
        "        authorized[_spender] = false;\n",
        "    }\n",
        "\n",
        "    function transfer(address _to, uint _value) public {\n",
        "        require(balances[msg.sender] >= _value && authorized[msg.sender]);\n",
        "        require(_to != address(0));\n",
        "        balances[msg.sender] -= _value;\n",
        "        balances[_to] += _value;\n",
        "        emit Transfer(msg.sender, _to, _value);\n",
        "    }\n",
        "\n",
        "    function approve(address _spender, uint _value) public {\n",
        "        require(balances[msg.sender] >= _value && authorized[msg.sender]);\n",
        "        require(_spender != address(0));\n",
        "        emit Approval(msg.sender, _spender, _value);\n",
        "    }\n",
        "\n",
        "    function transferFrom(address _from, address _to, uint _value) public {\n",
        "        require(balances[_from] >= _value && authorized[_from] && authorized[_to]);\n",
        "        require(_to != address(0));\n",
        "        balances[_from] -= _value;\n",
        "        balances[_to] += _value;\n",
        "        emit Transfer(_from, _to, _value);\n",
        "    }\n",
        "\n",
        "    event Transfer(address indexed _from, address indexed _to, uint _value);\n",
        "    event Approval(address indexed _owner, address indexed _spender, uint _value);\n",
        "}\n",
        "\n",
        "\n",
        "# Compile the contract\n",
        "compiled_contract = web3.eth.compile.solidity(contract_source_code)\n"
      ],
      "metadata": {
        "id": "YwIzlYrVYq9c"
      },
      "execution_count": null,
      "outputs": []
    },
    {
      "cell_type": "code",
      "source": [
        "import web3\n",
        "\n",
        "# Connect to the Ethereum node DeFi Loans\n",
        "web3 = web3.Web3(web3.Web3.HTTPProvider(\"http://localhost:8545\"))\n",
        "\n",
        "# Set the contract source code\n",
        "contract_source_code = \n",
        "pragma solidity ^0.5.0;\n",
        "\n",
        "contract DecentralizedLoanProvider {\n",
        "    address public owner;\n",
        "    mapping (bytes32 => Loan) public loans;\n",
        "    uint public loanCount;\n",
        "    uint public interestRate;\n",
        "    uint public minimumLoanAmount;\n",
        "    uint public maximumLoanAmount;\n",
        "\n",
        "    constructor(uint _interestRate, uint _minimumLoanAmount, uint _maximumLoanAmount) public {\n",
        "        owner = msg.sender;\n",
        "        interestRate = _interestRate;\n",
        "        minimumLoanAmount = _minimumLoanAmount;\n",
        "        maximumLoanAmount = _maximumLoanAmount;\n",
        "    }\n",
        "\n",
        "    function requestLoan(bytes32 _loanId, uint _amount, uint _term) public {\n",
        "        require(_amount >= minimumLoanAmount && _amount <= maximumLoanAmount);\n",
        "        require(loans[_loanId] == Loan(0, 0, 0, 0));\n",
        "        loans[_loanId] = Loan(_amount, _term, interestRate, msg.sender);\n",
        "        loanCount++;\n",
        "        emit LoanRequested(_loanId, _\n"
      ],
      "metadata": {
        "id": "TM-NVHpSbucA"
      },
      "execution_count": null,
      "outputs": []
    },
    {
      "cell_type": "code",
      "source": [
        "from web3 import Web3\n",
        "\n",
        "# Connect to Ethereum blockchain TO CREATE TOKEN GAIOS WRAPPED TOKENS \n",
        "w3 = Web3(Web3.HTTPProvider(\"https://mainnet.infura.io/v3/YOUR-PROJECT-ID\"))\n",
        "\n",
        "# ERC-20 contract ABI\n",
        "contract_abi = [{...}]\n",
        "\n",
        "# ERC-20 contract address\n",
        "contract_address = \"0x...\"\n",
        "\n",
        "# Create contract object\n",
        "contract = w3.eth.contract(address=contract_address, abi=contract_abi)\n",
        "\n",
        "# Your Ethereum address\n",
        "my_address = \"0x...\"\n",
        "\n",
        "# Your private key\n",
        "my_private_key = \"0x...\"\n",
        "\n",
        "# Function to mint new tokens\n",
        "def mint_token(to_address, amount):\n",
        "    # Build transaction\n",
        "    nonce = w3.eth.getTransactionCount(my_address)\n",
        "    gas_price = w3.eth.gasPrice\n",
        "    gas_limit = 100000\n",
        "    data = contract.functions.mint(to_address, amount).buildTransaction({\n",
        "        'gas': gas_limit,\n",
        "        'gasPrice': gas_price,\n",
        "        'nonce': nonce,\n",
        "    })\n",
        "\n",
        "    # Sign transaction\n",
        "    signed_tx = w3.eth.account.signTransaction(data, my_private_key)\n",
        "\n",
        "    # Send transaction\n",
        "    tx_hash = w3.eth.sendRawTransaction(signed_tx.rawTransaction)\n",
        "\n",
        "    # Wait for transaction to be mined\n",
        "    tx_receipt = w3.eth.waitForTransactionReceipt(tx_hash)\n",
        "\n",
        "    # Check if transaction was successful\n",
        "    if tx_receipt['status'] == 1:\n",
        "        print(\"Token minted successfully\")\n",
        "    else:\n",
        "        print(\"Error: Token mint failed\")\n",
        "\n",
        "# Example usage\n",
        "to_address = \"0x...\"\n",
        "amount = 100\n",
        "mint_token(to_address, amount)\n"
      ],
      "metadata": {
        "id": "zIVydr9Pd-LE"
      },
      "execution_count": null,
      "outputs": []
    },
    {
      "cell_type": "code",
      "source": [
        "from web3 import Web3\n",
        "from openzeppelin_sdk import NFT\n",
        "\n",
        "# Connect to Ethereum blockchain TO CREATE GAIOS BACKED NFTS\n",
        "w3 = Web3(Web3.HTTPProvider(\"https://mainnet.infura.io/v3/YOUR-PROJECT-ID\"))\n",
        "\n",
        "# Your Ethereum address\n",
        "my_address = \"0x...\"\n",
        "\n",
        "# Your private key\n",
        "my_private_key = \"0x...\"\n",
        "\n",
        "# Create NFT object\n",
        "nft = NFT(w3, my_address, my_private_key)\n",
        "\n",
        "# Create new NFT\n",
        "metadata = \"My first NFT\"\n",
        "image_url = \"https://example.com/image.png\"\n",
        "tx_hash = nft.create(metadata, image_url)\n",
        "\n",
        "# Wait for transaction to be mined\n",
        "tx_receipt = w3.eth.waitForTransactionReceipt(tx_hash)\n",
        "\n",
        "# Check if transaction was successful\n",
        "if tx_receipt['status'] == 1:\n",
        "    print(\"NFT created successfully. NFT ID:\", tx_receipt['logs'][0]['topics'][1])\n",
        "else:\n",
        "    print(\"Error: NFT creation failed\")\n"
      ],
      "metadata": {
        "id": "ScWiqB9B2vfs"
      },
      "execution_count": null,
      "outputs": []
    },
    {
      "cell_type": "code",
      "source": [
        "import requests\n",
        "import json\n",
        "\n",
        "# Flight booking API endpoint for Flights\n",
        "api_endpoint = \"https://flight-booking-api.com/book\"\n",
        "\n",
        "# Flight information\n",
        "flight_info = {\n",
        "    \"origin\": \"New York\",\n",
        "    \"destination\": \"Los Angeles\",\n",
        "    \"date\": \"2022-06-01\",\n",
        "    \"passenger_name\": \"John Smith\",\n",
        "    \"passenger_email\": \"john.smith@example.com\"\n",
        "}\n",
        "\n",
        "# Make API request to book flight\n",
        "response = requests.post(api_endpoint, json=flight_info)\n",
        "\n",
        "# Check if booking was successful\n",
        "if response.status_code == 200:\n",
        "    flight_booking_details = json.loads(response.text)\n",
        "    print(\"Flight booked successfully! Booking details:\")\n",
        "    print(\"Booking reference:\", flight_booking_details['booking_reference'])\n",
        "    print(\"Total cost:\", flight_booking_details['total_cost'])\n",
        "else:\n",
        "    print(\"Error: Flight booking failed\")\n"
      ],
      "metadata": {
        "id": "fiKhe8HDLUof"
      },
      "execution_count": null,
      "outputs": []
    },
    {
      "cell_type": "code",
      "source": [
        "import requests\n",
        "import json\n",
        "\n",
        "# Car booking API endpoint for booking CARS\n",
        "api_endpoint = \"https://car-booking-api.com/book\"\n",
        "\n",
        "# Car rental information\n",
        "car_info = {\n",
        "    \"pickup_location\": \"New York\",\n",
        "    \"dropoff_location\": \"Los Angeles\",\n",
        "    \"pickup_date\": \"2022-06-01\",\n",
        "    \"dropoff_date\": \"2022-06-05\",\n",
        "    \"car_type\": \"SUV\",\n",
        "    \"renter_name\": \"John Smith\",\n",
        "    \"renter_email\": \"john.smith@example.com\"\n",
        "}\n",
        "\n",
        "# Make API request to book car\n",
        "response = requests.post(api_endpoint, json=car_info)\n",
        "\n",
        "# Check if booking was successful\n",
        "if response.status_code == 200:\n",
        "    car_booking_details = json.loads(response.text)\n",
        "    print(\"Car booked successfully! Booking details:\")\n",
        "    print(\"Booking reference:\", car_booking_details['booking_reference'])\n",
        "    print(\"Total cost:\", car_booking_details['total_cost'])\n",
        "    print(\"Pickup location:\", car_booking_details['pickup_location'])\n",
        "    print(\"Dropoff location:\", car_booking_details['dropoff_location'])\n",
        "else:\n",
        "    print(\"Error: Car booking failed\")\n"
      ],
      "metadata": {
        "id": "UKd0OfDhLYXj"
      },
      "execution_count": null,
      "outputs": []
    },
    {
      "cell_type": "code",
      "source": [
        "import requests\n",
        "import json\n",
        "\n",
        "# Boat booking API endpoint for BOATS\n",
        "api_endpoint = \"https://boat-booking-api.com/book\"\n",
        "\n",
        "# Boat rental information\n",
        "boat_info = {\n",
        "    \"pickup_location\": \"Miami\",\n",
        "    \"dropoff_location\": \"Bahamas\",\n",
        "    \"pickup_date\": \"2022-06-01\",\n",
        "    \"dropoff_date\": \"2022-06-05\",\n",
        "    \"boat_type\": \"Yachts\",\n",
        "    \"renter_name\": \"John Smith\",\n",
        "    \"renter_email\": \"john.smith@example.com\"\n",
        "}\n",
        "\n",
        "# Make API request to book boat\n",
        "response = requests.post(api_endpoint, json=boat_info)\n",
        "\n",
        "# Check if booking was successful\n",
        "if response.status_code == 200:\n",
        "    boat_booking_details = json.loads(response.text)\n",
        "    print(\"Boat booked successfully! Booking details:\")\n",
        "    print(\"Booking reference:\", boat_booking_details['booking_reference'])\n",
        "    print(\"Total cost:\", boat_booking_details['total_cost'])\n",
        "    print(\"Pickup location:\", boat_booking_details['pickup_location'])\n",
        "    print(\"Dropoff location:\", boat_booking_details['dropoff_location'])\n",
        "else:\n",
        "    print(\"Error: Boat booking failed\")\n"
      ],
      "metadata": {
        "id": "u7B2gIYPL88W"
      },
      "execution_count": null,
      "outputs": []
    },
    {
      "cell_type": "code",
      "source": [
        "import requests\n",
        "import json\n",
        "\n",
        "# Private jet booking API endpoint FOR CHARTER JETS\n",
        "api_endpoint = \"https://private-jet-booking-api.com/book\"\n",
        "\n",
        "# Private jet charter information\n",
        "jet_info = {\n",
        "    \"origin\": \"New York\",\n",
        "    \"destination\": \"Los Angeles\",\n",
        "    \"departure_date\": \"2022-06-01\",\n",
        "    \"return_date\": \"2022-06-05\",\n",
        "    \"jet_type\": \"Bombardier Challenger 850\",\n",
        "    \"passenger_name\": \"John Smith\",\n",
        "    \"passenger_email\": \"john.smith@example.com\"\n",
        "}\n",
        "\n",
        "# Make API request to book private jet\n",
        "response = requests.post(api_endpoint, json=jet_info)\n",
        "\n",
        "# Check if booking was successful\n",
        "if response.status_code == 200:\n",
        "    jet_booking_details = json.loads(response.text)\n",
        "    print(\"Private jet booked successfully! Booking details:\")\n",
        "    print(\"Booking reference:\", jet_booking_details['booking_reference'])\n",
        "    print(\"Total cost:\", jet_booking_details['total_cost'])\n",
        "    print(\"Origin:\", jet_booking_details['origin'])\n",
        "    print(\"Destination:\", jet_booking_details['destination'])\n",
        "else:\n",
        "    print(\"Error: Private jet booking failed\")\n"
      ],
      "metadata": {
        "id": "b0kJpA1mMmQe"
      },
      "execution_count": null,
      "outputs": []
    },
    {
      "cell_type": "code",
      "source": [
        "import pandas as pd\n",
        "from datetime import datetime\n",
        "import ccxt as ccxt\n",
        "pair = 'ETH/USDT'\n",
        "\n",
        "ohlcv = binance.fetch_ohlcv(pair, '1d')\n",
        "prices = [x[4] for x in ohlcv]\n",
        "\n",
        "dates = [datetime.fromtimestamp (x[0 // 1000]) for x in ohlcv]\n",
        "data = pd.series (prices, index=dates)\n",
        "data.plot()"
      ],
      "metadata": {
        "id": "YudzGTUzMpqr"
      },
      "execution_count": null,
      "outputs": []
    }
  ]
}